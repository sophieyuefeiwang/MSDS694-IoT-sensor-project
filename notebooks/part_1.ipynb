{
 "cells": [
  {
   "cell_type": "code",
   "execution_count": 1,
   "id": "published-exclusion",
   "metadata": {},
   "outputs": [],
   "source": [
    "from pyspark import SparkContext\n",
    "from pyspark.sql import SparkSession\n",
    "from pyspark.sql.types import *\n",
    "from pyspark.sql.functions import asc, desc"
   ]
  },
  {
   "cell_type": "code",
   "execution_count": 2,
   "id": "buried-archives",
   "metadata": {},
   "outputs": [],
   "source": [
    "# For output_1.txt\n",
    "subject_id = 1613\n",
    "activity_code = 'A'\n",
    "n = 20\n",
    "files = 'WISDM/*/*/'\n",
    "\n",
    "# For output_2.txt\n",
    "# subject_id = 1631\n",
    "# activity_code = 'B'\n",
    "# n = 10\n",
    "# files = 'WISDM/*/*/'"
   ]
  },
  {
   "cell_type": "code",
   "execution_count": 3,
   "id": "auburn-complaint",
   "metadata": {},
   "outputs": [],
   "source": [
    "ss = SparkSession.builder.getOrCreate()\n",
    "sc = ss.sparkContext  # Have to create sparckContext in order to create RDD"
   ]
  },
  {
   "cell_type": "code",
   "execution_count": 4,
   "id": "occupied-officer",
   "metadata": {},
   "outputs": [],
   "source": [
    "data = sc.wholeTextFiles(files)"
   ]
  },
  {
   "cell_type": "markdown",
   "id": "atmospheric-brunei",
   "metadata": {},
   "source": [
    "# QUESTION 1"
   ]
  },
  {
   "cell_type": "code",
   "execution_count": 63,
   "id": "affected-pepper",
   "metadata": {},
   "outputs": [
    {
     "name": "stdout",
     "output_type": "stream",
     "text": [
      "204\n"
     ]
    }
   ],
   "source": [
    "num_files = data.map(lambda x: x[0]).distinct().count()\n",
    "print(num_files)"
   ]
  },
  {
   "cell_type": "markdown",
   "id": "guided-abraham",
   "metadata": {},
   "source": [
    "# QUESTION 2"
   ]
  },
  {
   "cell_type": "code",
   "execution_count": 60,
   "id": "desirable-humidity",
   "metadata": {},
   "outputs": [],
   "source": [
    "# cleaned_rdd = data.map(lambda x: (x[0],x[1].split('\\n')))\\\n",
    "#     .flatMapValues(lambda x: x)\\\n",
    "#     .map(lambda x: (x[0].split('/'), x[1]))\\\n",
    "#     .map(lambda x: (x[0][-2], x[0][-3], x[1][:-1].split(',')))\\\n",
    "#     #.filter(lambda x: x[2][0]!='')\\\n",
    "#     #.map(lambda x: (int(x[2][0]), x[0], x[1], x[2][2], float(x[2][3]), float(x[2][4]), float(x[2][5])))"
   ]
  },
  {
   "cell_type": "code",
   "execution_count": 83,
   "id": "brutal-modern",
   "metadata": {},
   "outputs": [],
   "source": [
    "cleaned_rdd = data.map(lambda x: (x[0], x[1].split('\\n')))\\\n",
    "    .flatMapValues(lambda x: x)\\\n",
    "    .map(lambda x: (x[0].split('/'), x[1]))\\\n",
    "    .map(lambda x: (x[0][-2], x[0][-3], x[1][:-1].split(',')))\\\n",
    "    .filter(lambda x: all(x[2]))\\\n",
    "    .map(lambda x: (int(x[2][0]), x[0], x[1], x[2][1], int(x[2][2]), float(x[2][3]), float(x[2][4]), float(x[2][5])))"
   ]
  },
  {
   "cell_type": "code",
   "execution_count": 84,
   "id": "cooked-scoop",
   "metadata": {},
   "outputs": [],
   "source": [
    "num_records_no_null = cleaned_rdd.count()"
   ]
  },
  {
   "cell_type": "code",
   "execution_count": 81,
   "id": "friendly-vegetable",
   "metadata": {},
   "outputs": [
    {
     "name": "stdout",
     "output_type": "stream",
     "text": [
      "15630426\n"
     ]
    }
   ],
   "source": [
    "print(num_records_no_null)"
   ]
  },
  {
   "cell_type": "code",
   "execution_count": 85,
   "id": "injured-tower",
   "metadata": {},
   "outputs": [
    {
     "data": {
      "text/plain": [
       "[(1613,\n",
       "  'gyro',\n",
       "  'phone',\n",
       "  'A',\n",
       "  178468071944614,\n",
       "  -0.020240024,\n",
       "  -0.004261058,\n",
       "  -0.023435818)]"
      ]
     },
     "execution_count": 85,
     "metadata": {},
     "output_type": "execute_result"
    }
   ],
   "source": [
    "# cleaned_rdd.take(1)"
   ]
  },
  {
   "cell_type": "markdown",
   "id": "elect-vehicle",
   "metadata": {},
   "source": [
    "# QUESTION 3\n",
    "            "
   ]
  },
  {
   "cell_type": "code",
   "execution_count": 86,
   "id": "graduate-forward",
   "metadata": {},
   "outputs": [],
   "source": [
    "schema = StructType([StructField('subject_id', IntegerType(), False),\n",
    "                     StructField('sensor', StringType(), False),\n",
    "                     StructField('device', StringType(), False),\n",
    "                     StructField('activity_code', StringType(), False),\n",
    "                     StructField('timestamp', LongType(), False),\n",
    "                     StructField('x', FloatType(), False),\n",
    "                     StructField('y', FloatType(), False),\n",
    "                     StructField('z', FloatType(), False)])"
   ]
  },
  {
   "cell_type": "code",
   "execution_count": 87,
   "id": "vital-ranch",
   "metadata": {},
   "outputs": [],
   "source": [
    "data_df = ss.createDataFrame(cleaned_rdd, schema)"
   ]
  },
  {
   "cell_type": "code",
   "execution_count": 89,
   "id": "fancy-embassy",
   "metadata": {},
   "outputs": [
    {
     "name": "stdout",
     "output_type": "stream",
     "text": [
      "root\n",
      " |-- subject_id: integer (nullable = false)\n",
      " |-- sensor: string (nullable = false)\n",
      " |-- device: string (nullable = false)\n",
      " |-- activity_code: string (nullable = false)\n",
      " |-- timestamp: long (nullable = false)\n",
      " |-- x: float (nullable = false)\n",
      " |-- y: float (nullable = false)\n",
      " |-- z: float (nullable = false)\n",
      "\n"
     ]
    }
   ],
   "source": [
    "data_df.printSchema()"
   ]
  },
  {
   "cell_type": "markdown",
   "id": "diverse-safety",
   "metadata": {},
   "source": [
    "# QUESTION 4"
   ]
  },
  {
   "cell_type": "code",
   "execution_count": 98,
   "id": "frank-rabbit",
   "metadata": {},
   "outputs": [],
   "source": [
    "unique_id_df = data_df.select('subject_id').distinct().sort(\n",
    "    'subject_id', ascending=True)"
   ]
  },
  {
   "cell_type": "code",
   "execution_count": 99,
   "id": "forward-working",
   "metadata": {},
   "outputs": [
    {
     "name": "stdout",
     "output_type": "stream",
     "text": [
      "+----------+\n",
      "|subject_id|\n",
      "+----------+\n",
      "|      1600|\n",
      "|      1601|\n",
      "|      1602|\n",
      "|      1603|\n",
      "|      1604|\n",
      "|      1605|\n",
      "|      1606|\n",
      "|      1607|\n",
      "|      1608|\n",
      "|      1609|\n",
      "|      1610|\n",
      "|      1611|\n",
      "|      1612|\n",
      "|      1613|\n",
      "|      1614|\n",
      "|      1615|\n",
      "|      1616|\n",
      "|      1617|\n",
      "|      1618|\n",
      "|      1619|\n",
      "|      1620|\n",
      "|      1621|\n",
      "|      1622|\n",
      "|      1623|\n",
      "|      1624|\n",
      "|      1625|\n",
      "|      1626|\n",
      "|      1627|\n",
      "|      1628|\n",
      "|      1629|\n",
      "|      1630|\n",
      "|      1631|\n",
      "|      1632|\n",
      "|      1633|\n",
      "|      1634|\n",
      "|      1635|\n",
      "|      1636|\n",
      "|      1637|\n",
      "|      1638|\n",
      "|      1639|\n",
      "|      1640|\n",
      "|      1641|\n",
      "|      1642|\n",
      "|      1643|\n",
      "|      1644|\n",
      "|      1645|\n",
      "|      1646|\n",
      "|      1647|\n",
      "|      1648|\n",
      "|      1649|\n",
      "|      1650|\n",
      "+----------+\n",
      "\n"
     ]
    }
   ],
   "source": [
    "unique_id_df.show(unique_id_df.count())"
   ]
  },
  {
   "cell_type": "markdown",
   "id": "defined-tuning",
   "metadata": {},
   "source": [
    "# QUESTION 5"
   ]
  },
  {
   "cell_type": "code",
   "execution_count": 100,
   "id": "inside-designation",
   "metadata": {},
   "outputs": [
    {
     "name": "stdout",
     "output_type": "stream",
     "text": [
      "+------+\n",
      "|sensor|\n",
      "+------+\n",
      "| accel|\n",
      "|  gyro|\n",
      "+------+\n",
      "\n"
     ]
    }
   ],
   "source": [
    "unique_sensor_df = data_df.select(\n",
    "    'sensor').distinct().sort('sensor', ascending=True)\n",
    "unique_sensor_df.show(unique_sensor_df.count())"
   ]
  },
  {
   "cell_type": "markdown",
   "id": "collectible-intermediate",
   "metadata": {},
   "source": [
    "# QUESTION 6"
   ]
  },
  {
   "cell_type": "code",
   "execution_count": 102,
   "id": "bearing-zealand",
   "metadata": {},
   "outputs": [
    {
     "name": "stdout",
     "output_type": "stream",
     "text": [
      "+-------------+\n",
      "|activity_code|\n",
      "+-------------+\n",
      "|            A|\n",
      "|            B|\n",
      "|            C|\n",
      "|            D|\n",
      "|            E|\n",
      "|            F|\n",
      "|            G|\n",
      "|            H|\n",
      "|            I|\n",
      "|            J|\n",
      "|            K|\n",
      "|            L|\n",
      "|            M|\n",
      "|            O|\n",
      "|            P|\n",
      "|            Q|\n",
      "|            R|\n",
      "|            S|\n",
      "+-------------+\n",
      "\n"
     ]
    }
   ],
   "source": [
    "unique_act_code_df = data_df.select(\n",
    "    'activity_code').distinct().sort('activity_code', ascending=True)\n",
    "unique_act_code_df.show(unique_act_code_df.count())"
   ]
  },
  {
   "cell_type": "markdown",
   "id": "welsh-vietnamese",
   "metadata": {},
   "source": [
    "# QUESTION 7"
   ]
  },
  {
   "cell_type": "code",
   "execution_count": 112,
   "id": "proud-argentina",
   "metadata": {},
   "outputs": [],
   "source": [
    "result7 = data_df.filter(f\"subject_id == '{subject_id}' and activity_code == '{activity_code}'\").orderBy(\n",
    "    ['timestamp', 'sensor'], ascending=[True, False])"
   ]
  },
  {
   "cell_type": "code",
   "execution_count": 113,
   "id": "public-lucas",
   "metadata": {},
   "outputs": [
    {
     "name": "stdout",
     "output_type": "stream",
     "text": [
      "+----------+------+------+-------------+---------------+------------+------------+------------+\n",
      "|subject_id|sensor|device|activity_code|      timestamp|           x|           y|           z|\n",
      "+----------+------+------+-------------+---------------+------------+------------+------------+\n",
      "|      1613|  gyro| phone|            A|178468071944614|-0.020240024|-0.004261058|-0.023435818|\n",
      "|      1613| accel| phone|            A|178468071944614|  -3.7834373|    13.03164|   2.2427685|\n",
      "|      1613|  gyro| phone|            A|178468104194617|  -2.5750105|  0.18109496|   1.3864417|\n",
      "|      1613| accel| phone|            A|178468104194617|     -2.9317|    8.473679|    2.373851|\n",
      "|      1613|  gyro| phone|            A|178468142811857|  -1.5739282|   0.6668556|    1.320928|\n",
      "|      1613| accel| phone|            A|178468142811857|  -2.0260932|      5.4091|   1.3359646|\n",
      "|      1613|  gyro| phone|            A|178468183987271|  -1.5041534|   1.7973675|    0.824781|\n",
      "|      1613| accel| phone|            A|178468183987271|  -1.1953052|   3.0585926|   0.7194576|\n",
      "|      1613|  gyro| phone|            A|178468225406856| -0.50786483|   1.6002935|  0.45833004|\n",
      "|      1613| accel| phone|            A|178468225406856|  -1.2246342|   1.4514848|   1.0151415|\n",
      "|      1613|  gyro| phone|            A|178468263750919|   0.8072041|   1.4295849|    0.406931|\n",
      "|      1613| accel| phone|            A|178468263750919|  -1.9147629|     1.83336|   3.1908724|\n",
      "|      1613|  gyro| phone|            A|178468303909407|   2.7057717|   1.1065434|  0.22610238|\n",
      "|      1613| accel| phone|            A|178468303909407|  -2.4570496|   4.0557775|    6.289568|\n",
      "|      1613|  gyro| phone|            A|178468342207950|   2.0567594|    0.350472|  -0.2428803|\n",
      "|      1613| accel| phone|            A|178468342207950|  -4.2161894|   18.401834|    5.383961|\n",
      "|      1613|  gyro| phone|            A|178468382361543|  -2.7092338|   1.0740529|   0.8290421|\n",
      "|      1613| accel| phone|            A|178468382361543|   -2.148796|    12.61864|    14.51784|\n",
      "|      1613|  gyro| phone|            A|178468423371647|  0.86206526|  -0.5451491|  0.21544974|\n",
      "|      1613| accel| phone|            A|178468423371647|  -6.7666125|  0.36870706|  -2.4223335|\n",
      "+----------+------+------+-------------+---------------+------------+------------+------------+\n",
      "only showing top 20 rows\n",
      "\n"
     ]
    }
   ],
   "source": [
    "result7.show(n)"
   ]
  },
  {
   "cell_type": "markdown",
   "id": "assumed-disney",
   "metadata": {},
   "source": [
    "# QUESTION 8"
   ]
  },
  {
   "cell_type": "code",
   "execution_count": 115,
   "id": "surprising-shanghai",
   "metadata": {},
   "outputs": [
    {
     "name": "stdout",
     "output_type": "stream",
     "text": [
      "+----------+------+------+-------------+---------------+------------+------------+------------+\n",
      "|subject_id|sensor|device|activity_code|      timestamp|           x|           y|           z|\n",
      "+----------+------+------+-------------+---------------+------------+------------+------------+\n",
      "|      1613|  gyro| phone|            A|178468071944614|-0.020240024|-0.004261058|-0.023435818|\n",
      "|      1613|  gyro| phone|            A|178468104194617|  -2.5750105|  0.18109496|   1.3864417|\n",
      "|      1613|  gyro| phone|            A|178468142811857|  -1.5739282|   0.6668556|    1.320928|\n",
      "|      1613|  gyro| phone|            A|178468183987271|  -1.5041534|   1.7973675|    0.824781|\n",
      "|      1613|  gyro| phone|            A|178468225406856| -0.50786483|   1.6002935|  0.45833004|\n",
      "+----------+------+------+-------------+---------------+------------+------------+------------+\n",
      "only showing top 5 rows\n",
      "\n"
     ]
    }
   ],
   "source": [
    "# data_df.show(5)"
   ]
  },
  {
   "cell_type": "code",
   "execution_count": 131,
   "id": "rocky-crisis",
   "metadata": {},
   "outputs": [],
   "source": [
    "result8 = data_df.filter(f\"subject_id == '{subject_id}' and activity_code == '{activity_code}'\")\\\n",
    "    .orderBy(['timestamp', 'sensor'], ascending=[True, False])"
   ]
  },
  {
   "cell_type": "code",
   "execution_count": 133,
   "id": "infectious-worship",
   "metadata": {},
   "outputs": [],
   "source": [
    "result8 = result8.withColumn('x_positive', result8['x'] >= 0)\\\n",
    "    .withColumn('y_positive', result8['y'] >= 0)\\\n",
    "    .withColumn('z_positive', result8['z'] >= 0)\\\n",
    "    .drop('x', 'y', 'z')"
   ]
  },
  {
   "cell_type": "code",
   "execution_count": 134,
   "id": "cognitive-poverty",
   "metadata": {},
   "outputs": [
    {
     "name": "stdout",
     "output_type": "stream",
     "text": [
      "+----------+------+------+-------------+---------------+----------+----------+----------+\n",
      "|subject_id|sensor|device|activity_code|      timestamp|x_positive|y_positive|z_positive|\n",
      "+----------+------+------+-------------+---------------+----------+----------+----------+\n",
      "|      1613|  gyro| phone|            A|178468071944614|     false|     false|     false|\n",
      "|      1613| accel| phone|            A|178468071944614|     false|      true|      true|\n",
      "|      1613|  gyro| phone|            A|178468104194617|     false|      true|      true|\n",
      "|      1613| accel| phone|            A|178468104194617|     false|      true|      true|\n",
      "|      1613|  gyro| phone|            A|178468142811857|     false|      true|      true|\n",
      "|      1613| accel| phone|            A|178468142811857|     false|      true|      true|\n",
      "|      1613|  gyro| phone|            A|178468183987271|     false|      true|      true|\n",
      "|      1613| accel| phone|            A|178468183987271|     false|      true|      true|\n",
      "|      1613|  gyro| phone|            A|178468225406856|     false|      true|      true|\n",
      "|      1613| accel| phone|            A|178468225406856|     false|      true|      true|\n",
      "|      1613|  gyro| phone|            A|178468263750919|      true|      true|      true|\n",
      "|      1613| accel| phone|            A|178468263750919|     false|      true|      true|\n",
      "|      1613|  gyro| phone|            A|178468303909407|      true|      true|      true|\n",
      "|      1613| accel| phone|            A|178468303909407|     false|      true|      true|\n",
      "|      1613|  gyro| phone|            A|178468342207950|      true|      true|     false|\n",
      "|      1613| accel| phone|            A|178468342207950|     false|      true|      true|\n",
      "|      1613|  gyro| phone|            A|178468382361543|     false|      true|      true|\n",
      "|      1613| accel| phone|            A|178468382361543|     false|      true|      true|\n",
      "|      1613|  gyro| phone|            A|178468423371647|      true|     false|      true|\n",
      "|      1613| accel| phone|            A|178468423371647|     false|      true|     false|\n",
      "+----------+------+------+-------------+---------------+----------+----------+----------+\n",
      "only showing top 20 rows\n",
      "\n"
     ]
    }
   ],
   "source": [
    "result8.show(n)"
   ]
  },
  {
   "cell_type": "code",
   "execution_count": 135,
   "id": "first-paradise",
   "metadata": {},
   "outputs": [],
   "source": [
    "ss.stop()"
   ]
  },
  {
   "cell_type": "code",
   "execution_count": null,
   "id": "incorrect-pastor",
   "metadata": {},
   "outputs": [],
   "source": []
  }
 ],
 "metadata": {
  "kernelspec": {
   "display_name": "Python 3",
   "language": "python",
   "name": "python3"
  },
  "language_info": {
   "codemirror_mode": {
    "name": "ipython",
    "version": 3
   },
   "file_extension": ".py",
   "mimetype": "text/x-python",
   "name": "python",
   "nbconvert_exporter": "python",
   "pygments_lexer": "ipython3",
   "version": "3.8.3"
  }
 },
 "nbformat": 4,
 "nbformat_minor": 5
}
