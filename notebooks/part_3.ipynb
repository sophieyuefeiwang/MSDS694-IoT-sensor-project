{
 "cells": [
  {
   "cell_type": "code",
   "execution_count": 1,
   "id": "plastic-slide",
   "metadata": {},
   "outputs": [],
   "source": [
    "from pyspark.sql import SparkSession\n",
    "from pyspark.sql import Window\n",
    "from pyspark.sql.types import *\n",
    "from pyspark.sql.functions import *\n",
    "from pyspark.ml.feature import StringIndexer\n",
    "from pyspark.ml.feature import OneHotEncoder\n",
    "from pyspark.ml.feature import StandardScaler\n",
    "from pyspark.ml.feature import VectorAssembler\n",
    "from pyspark.ml.classification import LogisticRegression\n",
    "from pyspark.ml.evaluation import BinaryClassificationEvaluator\n",
    "from pyspark.ml.tuning import CrossValidator\n",
    "from pyspark.ml.tuning import ParamGridBuilder"
   ]
  },
  {
   "cell_type": "code",
   "execution_count": 2,
   "id": "aggressive-ethernet",
   "metadata": {},
   "outputs": [],
   "source": [
    "# output_2.txt\n",
    "# database = 'postgres'\n",
    "# eating_strings = [\"eating\"]\n",
    "# endpoint = 'msds694.cmxsootjz10m.us-west-2.rds.amazonaws.com'\n",
    "# files = './WISDM/*/*/'\n",
    "# n = 10\n",
    "# properties = {'user': 'students', 'password': 'msdsstudents'}\n",
    "# table = 'activity_code'\n",
    "# url = 'jdbc:postgresql://%s/%s' % (endpoint, database)\n",
    "# window_size = 5\n",
    "# n_fold = 5\n",
    "# max_iter = [100]\n",
    "# reg_params = [0.001]\n",
    "\n",
    "\n",
    "# output_3.txt\n",
    "database = 'postgres'\n",
    "eating_strings = [\"eating\"]\n",
    "endpoint = 'msds694.cmxsootjz10m.us-west-2.rds.amazonaws.com'\n",
    "files = './WISDM/*/*/'\n",
    "n = 5\n",
    "properties = {'user': 'students', 'password': 'msdsstudents'}\n",
    "table = 'activity_code'\n",
    "url = 'jdbc:postgresql://%s/%s' % (endpoint, database)\n",
    "window_size = 3\n",
    "n_fold = 5\n",
    "max_iter = [10, 100]\n",
    "reg_params = [0.01, 0.001]\n"
   ]
  },
  {
   "cell_type": "code",
   "execution_count": 3,
   "id": "processed-marketplace",
   "metadata": {},
   "outputs": [],
   "source": [
    "def retrive_file_name(x):\n",
    "    \"\"\"Returns subject_id, sensor, device and an arry of readings\"\"\"\n",
    "    file_name = x[0].split(\"/\")[-1].split(\".txt\")[0]\n",
    "    file_arg = file_name.split(\"_\")\n",
    "    return (file_arg[1], file_arg[2], file_arg[3], x[1])\n",
    "\n",
    "\n",
    "def convert_to_integer(x):\n",
    "    \"\"\"Convert a value to integer\"\"\"\n",
    "    try:\n",
    "        return int(x)\n",
    "    except ValueError:\n",
    "        return None\n",
    "\n",
    "\n",
    "def convert_to_float(x):\n",
    "    \"\"\"Convert a value to float\"\"\"\n",
    "    try:\n",
    "        return float(x)\n",
    "    except ValueError:\n",
    "        return None\n",
    "\n",
    "\n",
    "def conver_to_string(x):\n",
    "    \"\"\"Convert a value to string\"\"\"\n",
    "    try:\n",
    "        return str(x)\n",
    "    except ValueError:\n",
    "        return None\n",
    "\n",
    "\n",
    "def check_same_user(x):\n",
    "    \"\"\"\n",
    "    Return subject_id in the file name\n",
    "    that is same as subject_id in the content.\n",
    "    \"\"\"\n",
    "    if (x is not None and x[0] == x[3]):\n",
    "        return (x[0], x[1], x[2], x[4], x[5], x[6], x[7], x[8])\n",
    "\n",
    "\n",
    "def return_no_none_rows(x):\n",
    "    \"\"\"Return True if all the readings are not None\"\"\"\n",
    "    if (x is not None and\n",
    "            x[0] is not None and x[1] is not None and x[1] is not None and\n",
    "            x[2] is not None and x[3] is not None and x[4] is not None and\n",
    "            x[5] is not None and x[6] is not None and x[7] is not None):\n",
    "        # if(x[5] == 0 or x[6] == 0 or x[7] == 0):\n",
    "        return True\n",
    "    else:\n",
    "        return False\n",
    "\n",
    "\n",
    "def create_flat_rdd(x):\n",
    "    \"\"\"\n",
    "    Returns subject_id, sensor, device and\n",
    "    subject_id, activity_code, x, y, z readings\n",
    "    \"\"\"\n",
    "    values = x[3].split(\",\")\n",
    "    if len(values) == 6:\n",
    "        return (convert_to_integer(x[0]),\n",
    "                x[1],\n",
    "                x[2],\n",
    "                convert_to_integer(values[0]),\n",
    "                conver_to_string(values[1]),\n",
    "                convert_to_integer(values[2]),\n",
    "                convert_to_float(values[3]),\n",
    "                convert_to_float(values[4]),\n",
    "                convert_to_float(values[5]))\n",
    "\n",
    "\n",
    "def file_rdd(ss, files):\n",
    "    \"\"\"Create a pair RDD using wholeTextFiles\"\"\"\n",
    "    return ss.sparkContext.wholeTextFiles(files)\n",
    "\n",
    "\n",
    "def create_activity_df(ss, files_rdd, schema):\n",
    "    \"\"\"Create dataframe using the schema\"\"\"\n",
    "    activity_data_rdd = files_rdd.mapValues(lambda x: x.split(\";\\n\"))\\\n",
    "        .flatMapValues(lambda x: x)\\\n",
    "        .map(retrive_file_name)\\\n",
    "        .map(create_flat_rdd)\\\n",
    "        .map(check_same_user)\\\n",
    "        .filter(return_no_none_rows)\n",
    "\n",
    "    return ss.createDataFrame(activity_data_rdd, schema)\n"
   ]
  },
  {
   "cell_type": "code",
   "execution_count": 4,
   "id": "accomplished-jacket",
   "metadata": {},
   "outputs": [],
   "source": [
    "ss = SparkSession.builder.config('spark.driver.extraClassPath','postgresql-42.2.18.jar')\\\n",
    "                        .config(\"spark.executor.memory\", \"5g\")\\\n",
    "                        .config(\"spark.driver.memory\", \"5g\").getOrCreate()"
   ]
  },
  {
   "cell_type": "markdown",
   "id": "worth-ticket",
   "metadata": {},
   "source": [
    "# QUESTION 1\n",
    "\n"
   ]
  },
  {
   "cell_type": "code",
   "execution_count": 5,
   "id": "statistical-creator",
   "metadata": {},
   "outputs": [],
   "source": [
    "activity_code = ss.read.jdbc(\n",
    "    url=url, table=table, properties=properties).coalesce(8).cache()"
   ]
  },
  {
   "cell_type": "code",
   "execution_count": 6,
   "id": "ordered-belief",
   "metadata": {},
   "outputs": [],
   "source": [
    "# activity_code.show(5)"
   ]
  },
  {
   "cell_type": "code",
   "execution_count": 7,
   "id": "forward-burning",
   "metadata": {},
   "outputs": [],
   "source": [
    "schema = StructType([StructField('subject_id', IntegerType(), False),\n",
    "                     StructField('sensor', StringType(), False),\n",
    "                     StructField('device', StringType(), False),\n",
    "                     StructField('activity_code', StringType(), False),\n",
    "                     StructField('timestamp', LongType(), False),\n",
    "                     StructField('x', FloatType(), False),\n",
    "                     StructField('y', FloatType(), False),\n",
    "                     StructField('z', FloatType(), False)])"
   ]
  },
  {
   "cell_type": "code",
   "execution_count": 8,
   "id": "geographic-large",
   "metadata": {},
   "outputs": [],
   "source": [
    "# Load the data to rdds\n",
    "files_rdd = file_rdd(ss, files)\n",
    "# Create the spark dataframe\n",
    "files_df = create_activity_df(ss, files_rdd, schema).coalesce(8).cache()"
   ]
  },
  {
   "cell_type": "code",
   "execution_count": 9,
   "id": "dominant-momentum",
   "metadata": {},
   "outputs": [],
   "source": [
    "# files_df.show(5)"
   ]
  },
  {
   "cell_type": "markdown",
   "id": "earlier-directory",
   "metadata": {},
   "source": [
    "# QUESTION 2"
   ]
  },
  {
   "cell_type": "code",
   "execution_count": 10,
   "id": "absolute-pierre",
   "metadata": {},
   "outputs": [],
   "source": [
    "# activity_code.show(5)"
   ]
  },
  {
   "cell_type": "code",
   "execution_count": 11,
   "id": "miniature-detective",
   "metadata": {},
   "outputs": [],
   "source": [
    "def check_eating(x):\n",
    "    tracker = 0\n",
    "    for i in eating_strings:\n",
    "        if i in x:\n",
    "            tracker = tracker + 1\n",
    "    if tracker >= 1:\n",
    "        return True\n",
    "    else:\n",
    "        return False\n",
    "check_eating_udf = udf(check_eating, BooleanType())  "
   ]
  },
  {
   "cell_type": "code",
   "execution_count": 12,
   "id": "neural-motor",
   "metadata": {},
   "outputs": [],
   "source": [
    "eating_df = activity_code.withColumn(\n",
    "    'eating', check_eating_udf(lower(activity_code['activity'])))"
   ]
  },
  {
   "cell_type": "code",
   "execution_count": 13,
   "id": "chubby-smith",
   "metadata": {},
   "outputs": [
    {
     "name": "stdout",
     "output_type": "stream",
     "text": [
      "+----+\n",
      "|code|\n",
      "+----+\n",
      "|   H|\n",
      "|   I|\n",
      "|   J|\n",
      "|   L|\n",
      "+----+\n",
      "\n"
     ]
    }
   ],
   "source": [
    "# Notice that 'eating' is a boolean column, so we can filter this way \n",
    "result2 = eating_df.filter('eating').select('code').distinct().sort('code')\n",
    "result2.show()"
   ]
  },
  {
   "cell_type": "markdown",
   "id": "driven-blackjack",
   "metadata": {},
   "source": [
    "# QUESTION 3"
   ]
  },
  {
   "cell_type": "code",
   "execution_count": 14,
   "id": "limited-capital",
   "metadata": {},
   "outputs": [],
   "source": [
    "# files_df.show(5)"
   ]
  },
  {
   "cell_type": "code",
   "execution_count": 15,
   "id": "split-departure",
   "metadata": {},
   "outputs": [],
   "source": [
    "eating_df = eating_df.select(\n",
    "    ['activity', 'code', col('eating').cast(\"integer\")]).orderBy([])\n",
    "# eating_df.show(n)"
   ]
  },
  {
   "cell_type": "code",
   "execution_count": 16,
   "id": "egyptian-inspector",
   "metadata": {},
   "outputs": [],
   "source": [
    "joined_df = eating_df.join(files_df, eating_df.code ==\n",
    "                           files_df.activity_code).cache()"
   ]
  },
  {
   "cell_type": "code",
   "execution_count": 17,
   "id": "lesbian-orbit",
   "metadata": {},
   "outputs": [],
   "source": [
    "result3 = joined_df.select('subject_id','sensor','device','activity_code',\n",
    "                 'timestamp','x','y','z','eating')\\\n",
    "         .orderBy(['subject_id','timestamp','device','sensor']).cache()"
   ]
  },
  {
   "cell_type": "code",
   "execution_count": 18,
   "id": "polar-columbus",
   "metadata": {},
   "outputs": [
    {
     "name": "stdout",
     "output_type": "stream",
     "text": [
      "+----------+------+------+-------------+--------------+----------+----------+----------+------+\n",
      "|subject_id|sensor|device|activity_code|     timestamp|         x|         y|         z|eating|\n",
      "+----------+------+------+-------------+--------------+----------+----------+----------+------+\n",
      "|      1600| accel| watch|            D|79817308824838|-0.1666963| 1.5316905| 10.057592|     0|\n",
      "|      1600| accel| watch|            D|79817358500488|  3.613748|-1.0540473| 11.779023|     0|\n",
      "|      1600|  gyro| watch|            D|79817358500488| -1.365979|-1.5444704|-1.6969953|     0|\n",
      "|      1600| accel| watch|            D|79817408176138| 2.0886416|-3.4386723|  12.97373|     0|\n",
      "|      1600|  gyro| watch|            D|79817408176138|-1.9071333|-1.2696322|-1.8173702|     0|\n",
      "+----------+------+------+-------------+--------------+----------+----------+----------+------+\n",
      "only showing top 5 rows\n",
      "\n"
     ]
    }
   ],
   "source": [
    "result3.show(n)"
   ]
  },
  {
   "cell_type": "markdown",
   "id": "unique-portable",
   "metadata": {},
   "source": [
    "# QUESTION 4"
   ]
  },
  {
   "cell_type": "code",
   "execution_count": 19,
   "id": "amber-summer",
   "metadata": {},
   "outputs": [],
   "source": [
    "# joined_df.show(5)"
   ]
  },
  {
   "cell_type": "code",
   "execution_count": 20,
   "id": "upset-johns",
   "metadata": {},
   "outputs": [],
   "source": [
    "both_sensor_df = joined_df.groupBy('activity_code', 'device', 'timestamp')\\\n",
    "    .agg(countDistinct('sensor').alias('sensor_count'))\\\n",
    "    .filter('sensor_count==2').cache()"
   ]
  },
  {
   "cell_type": "code",
   "execution_count": 21,
   "id": "robust-newport",
   "metadata": {},
   "outputs": [],
   "source": [
    "# both_sensor_df.count()"
   ]
  },
  {
   "cell_type": "code",
   "execution_count": 22,
   "id": "subsequent-youth",
   "metadata": {},
   "outputs": [],
   "source": [
    "# both_sensor_df.show(5)"
   ]
  },
  {
   "cell_type": "code",
   "execution_count": 23,
   "id": "labeled-lyric",
   "metadata": {},
   "outputs": [],
   "source": [
    "# join by the combination of three columns\n",
    "result4_joined_df = joined_df.join(both_sensor_df, [\n",
    "                                   'activity_code', 'device', 'timestamp'], 'leftsemi')\\\n",
    "    .select('sensor', 'activity', 'activity_code', 'subject_id', 'device', 'timestamp', 'x', 'y', 'z', 'eating').distinct().cache()"
   ]
  },
  {
   "cell_type": "code",
   "execution_count": 24,
   "id": "conditional-immigration",
   "metadata": {},
   "outputs": [],
   "source": [
    "accel = result4_joined_df.filter(\"sensor == 'accel'\")\\\n",
    "    .withColumnRenamed('x', 'accel_x')\\\n",
    "    .withColumnRenamed('y', 'accel_y')\\\n",
    "    .withColumnRenamed('z', 'accel_z')\n",
    "\n",
    "gyro = result4_joined_df.filter(\"sensor == 'gyro'\")\\\n",
    "    .withColumnRenamed('x', 'gyro_x')\\\n",
    "    .withColumnRenamed('y', 'gyro_y')\\\n",
    "    .withColumnRenamed('z', 'gyro_z')"
   ]
  },
  {
   "cell_type": "code",
   "execution_count": 25,
   "id": "happy-wagner",
   "metadata": {},
   "outputs": [],
   "source": [
    "result4_df = accel.join(gyro, ['activity', 'device', 'timestamp'])\\\n",
    "    .select(gyro.activity_code, accel.subject_id, 'timestamp', 'device', accel.eating,\n",
    "            'accel_x', 'accel_y', 'accel_z', 'gyro_x', 'gyro_y', 'gyro_z').cache()"
   ]
  },
  {
   "cell_type": "code",
   "execution_count": 26,
   "id": "competent-badge",
   "metadata": {},
   "outputs": [
    {
     "name": "stdout",
     "output_type": "stream",
     "text": [
      "5901089\n"
     ]
    }
   ],
   "source": [
    "result4_count = result4_df.count()\n",
    "print(result4_count)"
   ]
  },
  {
   "cell_type": "markdown",
   "id": "binding-helping",
   "metadata": {},
   "source": [
    "# QUESTION 5"
   ]
  },
  {
   "cell_type": "code",
   "execution_count": 27,
   "id": "adequate-spokesman",
   "metadata": {},
   "outputs": [],
   "source": [
    "result5_df = result4_df"
   ]
  },
  {
   "cell_type": "code",
   "execution_count": 28,
   "id": "instant-chrome",
   "metadata": {},
   "outputs": [],
   "source": [
    "# result5_df.show(5)"
   ]
  },
  {
   "cell_type": "code",
   "execution_count": 29,
   "id": "democratic-clause",
   "metadata": {},
   "outputs": [],
   "source": [
    "for i in range(1, window_size+1):\n",
    "    result5_df = result5_df.withColumn(f\"lead_{i}_accel_x\",\n",
    "                                       lead('accel_x', i).over(Window.partitionBy(['subject_id', 'activity_code', 'device'])\n",
    "                                                               .orderBy(['subject_id', 'activity_code', 'device', 'timestamp'])))\n",
    "    result5_df = result5_df.withColumn(f\"lead_{i}_accel_y\",\n",
    "                                       lead('accel_y', i).over(Window.partitionBy(['subject_id', 'activity_code', 'device'])\n",
    "                                                               .orderBy(['subject_id', 'activity_code', 'device', 'timestamp'])))\n",
    "    result5_df = result5_df.withColumn(f\"lead_{i}_accel_z\",\n",
    "                                       lead('accel_z', i).over(Window.partitionBy(['subject_id', 'activity_code', 'device'])\n",
    "                                                               .orderBy(['subject_id', 'activity_code', 'device', 'timestamp'])))\n",
    "    result5_df = result5_df.withColumn(f\"lead_{i}_gyro_x\",\n",
    "                                       lead('gyro_x', i).over(Window.partitionBy(['subject_id', 'activity_code', 'device'])\n",
    "                                                              .orderBy(['subject_id', 'activity_code', 'device', 'timestamp'])))\n",
    "    result5_df = result5_df.withColumn(f\"lead_{i}_gyro_y\",\n",
    "                                       lead('gyro_y', i).over(Window.partitionBy(['subject_id', 'activity_code', 'device'])\n",
    "                                                              .orderBy(['subject_id', 'activity_code', 'device', 'timestamp'])))\n",
    "    result5_df = result5_df.withColumn(f\"lead_{i}_gyro_z\",\n",
    "                                       lead('gyro_z', i).over(Window.partitionBy(['subject_id', 'activity_code', 'device'])\n",
    "                                                              .orderBy(['subject_id', 'activity_code', 'device', 'timestamp'])))"
   ]
  },
  {
   "cell_type": "code",
   "execution_count": 30,
   "id": "identical-taiwan",
   "metadata": {},
   "outputs": [],
   "source": [
    "result5_df_new = result5_df.orderBy(\n",
    "    ['subject_id', 'activity_code', 'device', 'timestamp']).drop('activity_code').cache()"
   ]
  },
  {
   "cell_type": "code",
   "execution_count": 31,
   "id": "prescription-lesson",
   "metadata": {
    "scrolled": true
   },
   "outputs": [
    {
     "name": "stdout",
     "output_type": "stream",
     "text": [
      "+----------+---------------+------+------+-----------+---------+-----------+-----------+-----------+-----------+--------------+--------------+--------------+-------------+-------------+-------------+--------------+--------------+--------------+-------------+-------------+-------------+--------------+--------------+--------------+-------------+-------------+-------------+\n",
      "|subject_id|      timestamp|device|eating|    accel_x|  accel_y|    accel_z|     gyro_x|     gyro_y|     gyro_z|lead_1_accel_x|lead_1_accel_y|lead_1_accel_z|lead_1_gyro_x|lead_1_gyro_y|lead_1_gyro_z|lead_2_accel_x|lead_2_accel_y|lead_2_accel_z|lead_2_gyro_x|lead_2_gyro_y|lead_2_gyro_z|lead_3_accel_x|lead_3_accel_y|lead_3_accel_z|lead_3_gyro_x|lead_3_gyro_y|lead_3_gyro_z|\n",
      "+----------+---------------+------+------+-----------+---------+-----------+-----------+-----------+-----------+--------------+--------------+--------------+-------------+-------------+-------------+--------------+--------------+--------------+-------------+-------------+-------------+--------------+--------------+--------------+-------------+-------------+-------------+\n",
      "|      1600|252207918580802| phone|     0|  -4.332779|13.361191| -0.7188721|-0.85321045| 0.29722595|  0.8901825|   -0.31944275|     13.318359|   -0.23202515|   -0.8751373|  0.015472412|   0.16223145|      1.566452|      9.515274|   -0.01777649|  -0.72016907|   0.38848877|  -0.28401184|   -0.32374573|      5.262665|    0.32234192|     -0.57164|    1.2274017|   -0.2416687|\n",
      "|      1600|252207968934806| phone|     0|-0.31944275|13.318359|-0.23202515| -0.8751373|0.015472412| 0.16223145|      1.566452|      9.515274|   -0.01777649|  -0.72016907|   0.38848877|  -0.28401184|   -0.32374573|      5.262665|    0.32234192|     -0.57164|    1.2274017|   -0.2416687|     -1.811676|     3.7105103|     1.3739319|  -0.38049316|    1.2028351|  -0.21313477|\n",
      "|      1600|252208019288809| phone|     0|   1.566452| 9.515274|-0.01777649|-0.72016907| 0.38848877|-0.28401184|   -0.32374573|      5.262665|    0.32234192|     -0.57164|    1.2274017|   -0.2416687|     -1.811676|     3.7105103|     1.3739319|  -0.38049316|    1.2028351|  -0.21313477|    -1.1340485|      4.538269|     2.2975464|   -0.2257843|     0.558136|    0.1244812|\n",
      "|      1600|252208069642813| phone|     0|-0.32374573| 5.262665| 0.32234192|   -0.57164|  1.2274017| -0.2416687|     -1.811676|     3.7105103|     1.3739319|  -0.38049316|    1.2028351|  -0.21313477|    -1.1340485|      4.538269|     2.2975464|   -0.2257843|     0.558136|    0.1244812|    0.09291077|     6.7061005|     1.8996277|   0.12780762|   0.38006592|   0.55288696|\n",
      "|      1600|252208119996817| phone|     0|  -1.811676|3.7105103|  1.3739319|-0.38049316|  1.2028351|-0.21313477|    -1.1340485|      4.538269|     2.2975464|   -0.2257843|     0.558136|    0.1244812|    0.09291077|     6.7061005|     1.8996277|   0.12780762|   0.38006592|   0.55288696|    -1.0363159|     15.611984|     2.6415253|    -0.513504|    0.3798523|   0.33229065|\n",
      "+----------+---------------+------+------+-----------+---------+-----------+-----------+-----------+-----------+--------------+--------------+--------------+-------------+-------------+-------------+--------------+--------------+--------------+-------------+-------------+-------------+--------------+--------------+--------------+-------------+-------------+-------------+\n",
      "only showing top 5 rows\n",
      "\n"
     ]
    }
   ],
   "source": [
    "result5_df_new.show(n)"
   ]
  },
  {
   "cell_type": "markdown",
   "id": "demographic-belief",
   "metadata": {},
   "source": [
    "# QUESTION 6"
   ]
  },
  {
   "cell_type": "code",
   "execution_count": 32,
   "id": "drawn-values",
   "metadata": {},
   "outputs": [],
   "source": [
    "result6_df = result5_df.orderBy(\n",
    "    ['subject_id', 'activity_code', 'device', 'timestamp']).cache()"
   ]
  },
  {
   "cell_type": "code",
   "execution_count": 33,
   "id": "monthly-approval",
   "metadata": {},
   "outputs": [],
   "source": [
    "def indexStringColumns(df, cols):\n",
    "    newdf = df\n",
    "    \n",
    "    for c in cols:\n",
    "        si = StringIndexer(inputCol=c, outputCol = c+'-num')\n",
    "        sm = si.fit(newdf)\n",
    "        newdf = sm.transform(newdf).drop(c)\n",
    "        newdf = newdf.withColumnRenamed(c+'-num',c)\n",
    "    return newdf\n",
    "\n",
    "result6_df_numeric = indexStringColumns(result6_df, ['device'])"
   ]
  },
  {
   "cell_type": "code",
   "execution_count": 34,
   "id": "whole-california",
   "metadata": {},
   "outputs": [],
   "source": [
    "# result6_df_numeric.show(5)"
   ]
  },
  {
   "cell_type": "code",
   "execution_count": 35,
   "id": "circular-extension",
   "metadata": {},
   "outputs": [],
   "source": [
    "def oneHotEncodeColumns(df, cols):\n",
    "    newdf = df\n",
    "    for c in cols:\n",
    "        ohe = OneHotEncoder(inputCol=c, outputCol=c+'-onehot', dropLast=False)\n",
    "        ohe_model = ohe.fit(newdf)\n",
    "        newdf = ohe_model.transform(newdf).drop(c)\n",
    "        newdf = newdf.withColumnRenamed(c+'-onehot', c)\n",
    "    return newdf\n",
    "\n",
    "\n",
    "result6_df_onehot = oneHotEncodeColumns(result6_df_numeric, ['device']).orderBy([\n",
    "    'subject_id', 'timestamp', 'device'])"
   ]
  },
  {
   "cell_type": "code",
   "execution_count": 36,
   "id": "vocal-naples",
   "metadata": {},
   "outputs": [],
   "source": [
    "# result6_df_onehot.show(5)"
   ]
  },
  {
   "cell_type": "code",
   "execution_count": 37,
   "id": "collectible-harassment",
   "metadata": {},
   "outputs": [
    {
     "name": "stdout",
     "output_type": "stream",
     "text": [
      "+----------+--------------+-------------+---------+----------+---------+-----------+-----------+------------+--------------+--------------+--------------+-------------+-------------+-------------+--------------+--------------+--------------+-------------+-------------+-------------+--------------+--------------+--------------+-------------+-------------+-------------+\n",
      "|subject_id|     timestamp|       device|  accel_x|   accel_y|  accel_z|     gyro_x|     gyro_y|      gyro_z|lead_1_accel_x|lead_1_accel_y|lead_1_accel_z|lead_1_gyro_x|lead_1_gyro_y|lead_1_gyro_z|lead_2_accel_x|lead_2_accel_y|lead_2_accel_z|lead_2_gyro_x|lead_2_gyro_y|lead_2_gyro_z|lead_3_accel_x|lead_3_accel_y|lead_3_accel_z|lead_3_gyro_x|lead_3_gyro_y|lead_3_gyro_z|\n",
      "+----------+--------------+-------------+---------+----------+---------+-----------+-----------+------------+--------------+--------------+--------------+-------------+-------------+-------------+--------------+--------------+--------------+-------------+-------------+-------------+--------------+--------------+--------------+-------------+-------------+-------------+\n",
      "|      1600|79817358500488|(2,[0],[1.0])| 3.613748|-1.0540473|11.779023|  -1.365979| -1.5444704|  -1.6969953|     2.0886416|    -3.4386723|      12.97373|   -1.9071333|   -1.2696322|   -1.8173702|     1.7319057|    -2.5504234|      9.820566|   -1.4416127|  -0.42487752|  -0.28658515|     3.0319571|    -2.7802668|     14.082246|    1.1480451|   -1.4720324|   0.23645967|\n",
      "|      1600|79817408176138|(2,[0],[1.0])|2.0886416|-3.4386723| 12.97373| -1.9071333| -1.2696322|  -1.8173702|     1.7319057|    -2.5504234|      9.820566|   -1.4416127|  -0.42487752|  -0.28658515|     3.0319571|    -2.7802668|     14.082246|    1.1480451|   -1.4720324|   0.23645967|     4.6025534|      2.984971|      11.19005|  -0.67249185|  0.048099883| -0.059683837|\n",
      "|      1600|79817457851788|(2,[0],[1.0])|1.7319057|-2.5504234| 9.820566| -1.4416127|-0.42487752| -0.28658515|     3.0319571|    -2.7802668|     14.082246|    1.1480451|   -1.4720324|   0.23645967|     4.6025534|      2.984971|      11.19005|  -0.67249185|  0.048099883| -0.059683837|     2.7781718|    -3.9630024|      8.211663|   -1.2296251| -0.042447593|  -0.72973514|\n",
      "|      1600|79817507527438|(2,[0],[1.0])|3.0319571|-2.7802668|14.082246|  1.1480451| -1.4720324|  0.23645967|     4.6025534|      2.984971|      11.19005|  -0.67249185|  0.048099883| -0.059683837|     2.7781718|    -3.9630024|      8.211663|   -1.2296251| -0.042447593|  -0.72973514|     3.4772787|     1.0720038|      9.494955|  0.012473181|  -0.33646056|  -0.26847565|\n",
      "|      1600|79817557203088|(2,[0],[1.0])|4.6025534|  2.984971| 11.19005|-0.67249185|0.048099883|-0.059683837|     2.7781718|    -3.9630024|      8.211663|   -1.2296251| -0.042447593|  -0.72973514|     3.4772787|     1.0720038|      9.494955|  0.012473181|  -0.33646056|  -0.26847565|     3.9154177|     -4.099472|     10.416722|   0.17545864|  0.033186182|  -0.12040391|\n",
      "+----------+--------------+-------------+---------+----------+---------+-----------+-----------+------------+--------------+--------------+--------------+-------------+-------------+-------------+--------------+--------------+--------------+-------------+-------------+-------------+--------------+--------------+--------------+-------------+-------------+-------------+\n",
      "only showing top 5 rows\n",
      "\n"
     ]
    }
   ],
   "source": [
    "# Rearrange the order of the columns\n",
    "cols = result6_df_onehot.columns  # this is a list of columns\n",
    "sorted_cols = cols[:3]\n",
    "sorted_cols.append(cols[-1])\n",
    "sorted_cols.extend(cols[3:-1])\n",
    "result6_df_new = result6_df_onehot.select(sorted_cols).cache()\n",
    "result6_df_onehot = result6_df_new.drop('activity_code', 'eating').cache()\n",
    "result6_df_onehot.show(n)"
   ]
  },
  {
   "cell_type": "markdown",
   "id": "bound-declaration",
   "metadata": {},
   "source": [
    "# QUESTION 7"
   ]
  },
  {
   "cell_type": "code",
   "execution_count": 38,
   "id": "starting-training",
   "metadata": {},
   "outputs": [],
   "source": [
    "result7_df = result6_df_new\n",
    "# result7_df.show(1)"
   ]
  },
  {
   "cell_type": "code",
   "execution_count": 39,
   "id": "prime-bullet",
   "metadata": {},
   "outputs": [],
   "source": [
    "cols = result7_df.columns\n",
    "input_cols = cols[5:]\n",
    "va = VectorAssembler(outputCol='features',\n",
    "                     inputCols=input_cols, handleInvalid=\"skip\")"
   ]
  },
  {
   "cell_type": "code",
   "execution_count": 40,
   "id": "accessory-constitution",
   "metadata": {},
   "outputs": [],
   "source": [
    "result7_transformed = va.transform(result7_df).select(\n",
    "    'activity_code', 'subject_id', 'timestamp', 'eating', 'device', 'features')\n",
    "# result7_transformed.show(5)"
   ]
  },
  {
   "cell_type": "code",
   "execution_count": 41,
   "id": "finite-stadium",
   "metadata": {},
   "outputs": [],
   "source": [
    "def standard_scaler(input_df):\n",
    "    df = input_df\n",
    "\n",
    "    scaler = StandardScaler(\n",
    "        inputCol='features', outputCol='features_Scaled', withMean=True, withStd=True)\n",
    "\n",
    "    stds = scaler.fit(df)\n",
    "\n",
    "    # Normalize each feature\n",
    "    df = stds.transform(df).drop('features')\n",
    "    df = df.withColumnRenamed('features_Scaled', 'features')\n",
    "    return df\n",
    "\n",
    "\n",
    "result7_standard = standard_scaler(result7_transformed).cache()"
   ]
  },
  {
   "cell_type": "code",
   "execution_count": 42,
   "id": "veterinary-celebration",
   "metadata": {},
   "outputs": [],
   "source": [
    "result7_final = result7_standard.select('eating', 'device', 'features').orderBy(\n",
    "    ['subject_id', 'activity_code', 'device', 'timestamp'])"
   ]
  },
  {
   "cell_type": "code",
   "execution_count": 43,
   "id": "historical-kenya",
   "metadata": {},
   "outputs": [
    {
     "name": "stdout",
     "output_type": "stream",
     "text": [
      "+------+-------------+--------------------+\n",
      "|eating|       device|            features|\n",
      "+------+-------------+--------------------+\n",
      "|     0|(2,[0],[1.0])|[0.69546612359028...|\n",
      "|     0|(2,[0],[1.0])|[0.42894076955912...|\n",
      "|     0|(2,[0],[1.0])|[0.35878297556336...|\n",
      "|     0|(2,[0],[1.0])|[0.50912109499279...|\n",
      "|     0|(2,[0],[1.0])|[0.64720949074113...|\n",
      "+------+-------------+--------------------+\n",
      "only showing top 5 rows\n",
      "\n"
     ]
    }
   ],
   "source": [
    "result7_final.show(n)"
   ]
  },
  {
   "cell_type": "markdown",
   "id": "characteristic-ending",
   "metadata": {},
   "source": [
    "# QUESTION 8"
   ]
  },
  {
   "cell_type": "code",
   "execution_count": 44,
   "id": "medical-highway",
   "metadata": {},
   "outputs": [],
   "source": [
    "result8_df = result7_final\n",
    "\n",
    "input_cols_8 = ['features', 'device']\n",
    "va8 = VectorAssembler(outputCol='features_new',\n",
    "                      inputCols=input_cols_8, handleInvalid=\"skip\")\n",
    "\n",
    "result8_transformed = va8.transform(result8_df)\\\n",
    "                         .drop('features', 'device')\\\n",
    "                         .withColumnRenamed('features_new', 'features')\\\n",
    "                         .withColumnRenamed('eating', 'label')\\\n",
    "                         .select('features', 'label')"
   ]
  },
  {
   "cell_type": "code",
   "execution_count": 45,
   "id": "ordered-dylan",
   "metadata": {},
   "outputs": [
    {
     "name": "stdout",
     "output_type": "stream",
     "text": [
      "+--------------------+-----+\n",
      "|            features|label|\n",
      "+--------------------+-----+\n",
      "|[0.69546612359028...|    0|\n",
      "|[0.42894076955912...|    0|\n",
      "|[0.35878297556336...|    0|\n",
      "|[0.50912109499279...|    0|\n",
      "|[0.64720949074113...|    0|\n",
      "+--------------------+-----+\n",
      "only showing top 5 rows\n",
      "\n"
     ]
    }
   ],
   "source": [
    "# result8_transformed.show(5)"
   ]
  },
  {
   "cell_type": "markdown",
   "id": "growing-click",
   "metadata": {},
   "source": [
    "# QUESTION 9"
   ]
  },
  {
   "cell_type": "code",
   "execution_count": 46,
   "id": "resident-sally",
   "metadata": {},
   "outputs": [],
   "source": [
    "result9_df = result8_transformed"
   ]
  },
  {
   "cell_type": "code",
   "execution_count": 47,
   "id": "preceding-military",
   "metadata": {},
   "outputs": [],
   "source": [
    "splits = result9_df.randomSplit([0.8, 0.2], seed=1)"
   ]
  },
  {
   "cell_type": "code",
   "execution_count": 48,
   "id": "proof-penetration",
   "metadata": {},
   "outputs": [],
   "source": [
    "train = splits[0].cache()\n",
    "valid = splits[1].cache()"
   ]
  },
  {
   "cell_type": "code",
   "execution_count": 49,
   "id": "enhanced-strength",
   "metadata": {},
   "outputs": [
    {
     "name": "stdout",
     "output_type": "stream",
     "text": [
      "+--------------------+-----+\n",
      "|            features|label|\n",
      "+--------------------+-----+\n",
      "|[-3.1091863058572...|    0|\n",
      "|[-3.0893114309134...|    0|\n",
      "|[-3.0384874887138...|    0|\n",
      "|[-3.0241532585882...|    0|\n",
      "|[-3.0091802692393...|    0|\n",
      "+--------------------+-----+\n",
      "only showing top 5 rows\n",
      "\n"
     ]
    }
   ],
   "source": [
    "train.show(n)"
   ]
  },
  {
   "cell_type": "code",
   "execution_count": 50,
   "id": "located-brazilian",
   "metadata": {},
   "outputs": [
    {
     "name": "stdout",
     "output_type": "stream",
     "text": [
      "+--------------------+-----+\n",
      "|            features|label|\n",
      "+--------------------+-----+\n",
      "|[-3.0236777378331...|    0|\n",
      "|[-2.6475242601134...|    0|\n",
      "|[-2.6327949455794...|    0|\n",
      "|[-2.6230195636882...|    0|\n",
      "|[-2.5604235255809...|    0|\n",
      "+--------------------+-----+\n",
      "only showing top 5 rows\n",
      "\n"
     ]
    }
   ],
   "source": [
    "valid.show(n)"
   ]
  },
  {
   "cell_type": "markdown",
   "id": "better-maryland",
   "metadata": {},
   "source": [
    "# QUESTION 10"
   ]
  },
  {
   "cell_type": "code",
   "execution_count": 51,
   "id": "gorgeous-toddler",
   "metadata": {},
   "outputs": [],
   "source": [
    "lr = LogisticRegression(regParam=0.01, maxIter=100, fitIntercept=True)"
   ]
  },
  {
   "cell_type": "code",
   "execution_count": 52,
   "id": "indonesian-helen",
   "metadata": {},
   "outputs": [],
   "source": [
    "bceval = BinaryClassificationEvaluator()\n",
    "cv = CrossValidator().setEstimator(lr).setEvaluator(bceval).setNumFolds(n_fold)\n",
    "\n",
    "paramGrid = ParamGridBuilder().addGrid(lr.maxIter, max_iter)\\\n",
    "    .addGrid(lr.regParam, reg_params).build()\n",
    "\n",
    "cv.setEstimatorParamMaps(paramGrid)\n",
    "cvmodel = cv.fit(train)"
   ]
  },
  {
   "cell_type": "code",
   "execution_count": 53,
   "id": "written-chest",
   "metadata": {},
   "outputs": [
    {
     "name": "stdout",
     "output_type": "stream",
     "text": [
      "[-0.14149340055629775,-0.028753314596476485,0.031305889458889,0.016840977623705518,-0.026880537872969904,-0.010666727781817062,-0.049584748298492735,-0.019307188434037465,0.009373638660564823,0.0012064385140092275,-0.0008479007209928024,-0.004665757615142812,-0.05297842660283901,-0.0184727086846613,0.011651564381378748,0.004661524703264557,-0.00582648697753709,-0.0005027034419519082,-0.13646654071498415,-0.032139813749269094,0.03934262861168735,0.0034492003597415715,0.0171438279970519,-0.024790904134362253,-0.06132009617685819,0.03152883740675802]\n",
      "\n",
      "-1.2678821040195134\n",
      "\n",
      "100\n",
      "\n",
      "0.001\n",
      "\n"
     ]
    }
   ],
   "source": [
    "print(cvmodel.bestModel.coefficients)\n",
    "print('')\n",
    "print(cvmodel.bestModel.intercept)\n",
    "print('')\n",
    "print(cvmodel.bestModel.getMaxIter())\n",
    "print('')\n",
    "print(cvmodel.bestModel.getRegParam())\n",
    "print('')"
   ]
  },
  {
   "cell_type": "markdown",
   "id": "bulgarian-spending",
   "metadata": {},
   "source": [
    "# QUESTION 11"
   ]
  },
  {
   "cell_type": "code",
   "execution_count": 54,
   "id": "worthy-roots",
   "metadata": {},
   "outputs": [
    {
     "name": "stdout",
     "output_type": "stream",
     "text": [
      "0.610966669608778\n"
     ]
    }
   ],
   "source": [
    "result11 = bceval.setMetricName('areaUnderROC').evaluate(\n",
    "    cvmodel.bestModel.transform(valid))\n",
    "print(result11)"
   ]
  },
  {
   "cell_type": "code",
   "execution_count": 55,
   "id": "automotive-experience",
   "metadata": {},
   "outputs": [],
   "source": [
    "ss.stop()"
   ]
  },
  {
   "cell_type": "code",
   "execution_count": null,
   "id": "optional-printing",
   "metadata": {},
   "outputs": [],
   "source": []
  }
 ],
 "metadata": {
  "kernelspec": {
   "display_name": "Python 3",
   "language": "python",
   "name": "python3"
  },
  "language_info": {
   "codemirror_mode": {
    "name": "ipython",
    "version": 3
   },
   "file_extension": ".py",
   "mimetype": "text/x-python",
   "name": "python",
   "nbconvert_exporter": "python",
   "pygments_lexer": "ipython3",
   "version": "3.8.3"
  }
 },
 "nbformat": 4,
 "nbformat_minor": 5
}
