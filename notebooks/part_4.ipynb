{
 "cells": [
  {
   "cell_type": "code",
   "execution_count": null,
   "id": "choice-choice",
   "metadata": {},
   "outputs": [],
   "source": [
    "from pyspark.sql import *\n",
    "from pyspark.ml import *\n",
    "\n",
    "from pyspark.sql import SparkSession\n",
    "from pyspark.sql import Window\n",
    "from pyspark.sql.types import *\n",
    "from pyspark.sql.functions import *\n",
    "from pyspark.ml.feature import StringIndexer\n",
    "from pyspark.ml.feature import OneHotEncoder\n",
    "from pyspark.ml.feature import StandardScaler\n",
    "from pyspark.ml.feature import VectorAssembler\n",
    "from pyspark.ml.classification import RandomForestClassifier\n",
    "from pyspark.ml.classification import GBTClassifier\n",
    "from pyspark.ml.evaluation import MulticlassClassificationEvaluator\n",
    "from pyspark.ml.evaluation import BinaryClassificationEvaluator\n",
    "from pyspark.ml.tuning import CrossValidator\n",
    "from pyspark.ml.tuning import ParamGridBuilder\n",
    "from pyspark.ml import Pipeline\n",
    "\n",
    "from builtins import round"
   ]
  },
  {
   "cell_type": "code",
   "execution_count": null,
   "id": "varied-skirt",
   "metadata": {},
   "outputs": [],
   "source": [
    "# input_1 : Window_size = 5\n",
    "train_folder = 'input_1/train'\n",
    "valid_folder = 'input_1/valid'\n",
    "num_trees = [10,100]\n",
    "n_fold = 5\n",
    "n_digits = 4\n",
    "max_depth = [5,10]  # added according to Diane's reply in piazza\n",
    "\n",
    "\n",
    "# input_2 : Window_size - 10\n",
    "# train_folder = 'input_2/train'\n",
    "# valid_folder = 'input_2/valid'\n",
    "# num_trees = [10,100]\n",
    "# n_fold = 5\n",
    "# n_digits = 3\n",
    "# max_depth = [5,10]  # added according to Diane's reply in piazza\n"
   ]
  },
  {
   "cell_type": "code",
   "execution_count": null,
   "id": "iraqi-press",
   "metadata": {},
   "outputs": [],
   "source": [
    "ss = SparkSession.builder.config('spark.driver.extraClassPath', 'postgresql-42.2.18.jar')\\  # no need jar actually\n",
    "    .config(\"spark.executor.memory\", \"12g\")\\\n",
    "    .config(\"spark.driver.memory\", \"12g\")\\\n",
    "    .config(\"spark.executor.cores\", 6)\\\n",
    "    .config('spark.executor.instances', 5).getOrCreate()"
   ]
  },
  {
   "cell_type": "markdown",
   "id": "sorted-medicine",
   "metadata": {},
   "source": [
    "# QUESTION 1"
   ]
  },
  {
   "cell_type": "code",
   "execution_count": null,
   "id": "unlike-mason",
   "metadata": {},
   "outputs": [],
   "source": [
    "train_df = ss.read.parquet(train_folder).repartition(8).cache()\n",
    "valid_df = ss.read.parquet(valid_folder).repartition(8).cache()"
   ]
  },
  {
   "cell_type": "code",
   "execution_count": null,
   "id": "separated-sudan",
   "metadata": {},
   "outputs": [],
   "source": [
    "print(train_df.count())"
   ]
  },
  {
   "cell_type": "code",
   "execution_count": null,
   "id": "european-hazard",
   "metadata": {},
   "outputs": [],
   "source": [
    "print(valid_df.count())"
   ]
  },
  {
   "cell_type": "markdown",
   "id": "valid-newark",
   "metadata": {},
   "source": [
    "# QUESTION 2"
   ]
  },
  {
   "cell_type": "code",
   "execution_count": null,
   "id": "damaged-adjustment",
   "metadata": {},
   "outputs": [],
   "source": [
    "# train_df.show(4)"
   ]
  },
  {
   "cell_type": "code",
   "execution_count": null,
   "id": "hindu-milton",
   "metadata": {},
   "outputs": [],
   "source": [
    "rf = RandomForestClassifier()\n",
    "evaluator = BinaryClassificationEvaluator()  # areaUnderROC is default  https://spark.apache.org/docs/latest/api/java/index.html?org/apache/spark/ml/evaluation/BinaryClassificationEvaluator.html\n",
    "\n",
    "paraGrid = ParamGridBuilder().addGrid(rf.numTrees, num_trees).build()\n",
    "\n",
    "cv = CrossValidator(estimator = rf,\n",
    "                   evaluator = evaluator,\n",
    "                   numFolds = n_fold,\n",
    "                   estimatorParamMaps = paraGrid)\n",
    "\n",
    "cvmodel = cv.fit(train_df)"
   ]
  },
  {
   "cell_type": "code",
   "execution_count": null,
   "id": "aggregate-ladder",
   "metadata": {},
   "outputs": [],
   "source": [
    "rfpredicts = cvmodel.bestModel.transform(valid_df)"
   ]
  },
  {
   "cell_type": "code",
   "execution_count": null,
   "id": "conventional-wells",
   "metadata": {},
   "outputs": [],
   "source": [
    "print('RandomForestClassifier')"
   ]
  },
  {
   "cell_type": "code",
   "execution_count": null,
   "id": "further-scheme",
   "metadata": {},
   "outputs": [],
   "source": [
    "print(cvmodel.bestModel.getNumTrees)"
   ]
  },
  {
   "cell_type": "code",
   "execution_count": null,
   "id": "religious-dependence",
   "metadata": {
    "scrolled": true
   },
   "outputs": [],
   "source": [
    "print(round(evaluator.evaluate(rfpredicts),n_digits))"
   ]
  },
  {
   "cell_type": "markdown",
   "id": "dried-registration",
   "metadata": {},
   "source": [
    "# QUESTION 3"
   ]
  },
  {
   "cell_type": "code",
   "execution_count": null,
   "id": "surprising-determination",
   "metadata": {},
   "outputs": [],
   "source": [
    "GBT = GBTClassifier()\n",
    "evaluator = BinaryClassificationEvaluator()  # areaUnderROC is default\n",
    "\n",
    "paramGrid = ParamGridBuilder().addGrid(GBT.maxDepth, max_depth).build()\n",
    "\n",
    "cv = CrossValidator(estimator = GBT,\n",
    "                   evaluator = evaluator,\n",
    "                   numFolds = n_fold,\n",
    "                   estimatorParamMaps = paramGrid)\n",
    "\n",
    "cvmodel = cv.fit(train_df)"
   ]
  },
  {
   "cell_type": "code",
   "execution_count": null,
   "id": "criminal-blanket",
   "metadata": {},
   "outputs": [],
   "source": [
    "GBTpredicts = cvmodel.bestModel.transform(valid_df)"
   ]
  },
  {
   "cell_type": "code",
   "execution_count": null,
   "id": "nonprofit-times",
   "metadata": {},
   "outputs": [],
   "source": [
    "print('GBTClassifier')"
   ]
  },
  {
   "cell_type": "code",
   "execution_count": null,
   "id": "executed-pittsburgh",
   "metadata": {},
   "outputs": [],
   "source": [
    "print(cvmodel.bestModel.getMaxDepth())"
   ]
  },
  {
   "cell_type": "code",
   "execution_count": null,
   "id": "beautiful-sacramento",
   "metadata": {},
   "outputs": [],
   "source": [
    "print(round(evaluator.evaluate(GBTpredicts),n_digits))"
   ]
  },
  {
   "cell_type": "code",
   "execution_count": null,
   "id": "spare-sensitivity",
   "metadata": {},
   "outputs": [],
   "source": []
  }
 ],
 "metadata": {
  "kernelspec": {
   "display_name": "Python 3",
   "language": "python",
   "name": "python3"
  },
  "language_info": {
   "codemirror_mode": {
    "name": "ipython",
    "version": 3
   },
   "file_extension": ".py",
   "mimetype": "text/x-python",
   "name": "python",
   "nbconvert_exporter": "python",
   "pygments_lexer": "ipython3",
   "version": "3.8.3"
  }
 },
 "nbformat": 4,
 "nbformat_minor": 5
}
