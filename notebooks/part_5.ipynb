{
 "cells": [
  {
   "cell_type": "code",
   "execution_count": 1,
   "id": "competitive-fifth",
   "metadata": {},
   "outputs": [],
   "source": [
    "from h2o.estimators.xgboost import H2OXGBoostEstimator\n",
    "from h2o.estimators.deeplearning import H2ODeepLearningEstimator\n",
    "from pyspark.sql import SparkSession\n",
    "from pysparkling import H2OContext\n",
    "import h2o"
   ]
  },
  {
   "cell_type": "code",
   "execution_count": 2,
   "id": "educational-webcam",
   "metadata": {},
   "outputs": [],
   "source": [
    "# input_1 : Window_size = 5\n",
    "train_folder = 'input_1/train'\n",
    "valid_folder = 'input_1/valid'\n",
    "n_fold = 5\n",
    "n_digits = 4\n",
    "seed = 1\n",
    "max_runtime_secs = 1000\n",
    "\n",
    "# input_2 : Window_size - 10\n",
    "# train_folder = 'input_2/train'\n",
    "# valid_folder = 'input_2/valid'\n",
    "# n_fold = 5\n",
    "# n_digits = 3\n",
    "# seed = 2\n",
    "# max_runtime_secs = 1500"
   ]
  },
  {
   "cell_type": "code",
   "execution_count": 3,
   "id": "documentary-participant",
   "metadata": {},
   "outputs": [],
   "source": [
    "ss = SparkSession.builder.config(\"spark.executor.memory\", \"12g\")\\\n",
    "    .config(\"spark.driver.memory\", \"12g\")\\\n",
    "    .config(\"spark.executor.cores\", 6)\\\n",
    "    .config('spark.executor.instances', 5).getOrCreate()\n",
    "\n",
    "ss.sparkContext.setLogLevel('OFF')"
   ]
  },
  {
   "cell_type": "code",
   "execution_count": 4,
   "id": "documentary-pontiac",
   "metadata": {},
   "outputs": [
    {
     "name": "stdout",
     "output_type": "stream",
     "text": [
      "Connecting to H2O server at http://192.168.1.7:54323 ... successful.\n"
     ]
    },
    {
     "data": {
      "text/html": [
       "<div style=\"overflow:auto\"><table style=\"width:50%\"><tr><td>H2O_cluster_uptime:</td>\n",
       "<td>09 secs</td></tr>\n",
       "<tr><td>H2O_cluster_timezone:</td>\n",
       "<td>America/Los_Angeles</td></tr>\n",
       "<tr><td>H2O_data_parsing_timezone:</td>\n",
       "<td>UTC</td></tr>\n",
       "<tr><td>H2O_cluster_version:</td>\n",
       "<td>3.32.0.4</td></tr>\n",
       "<tr><td>H2O_cluster_version_age:</td>\n",
       "<td>26 days </td></tr>\n",
       "<tr><td>H2O_cluster_name:</td>\n",
       "<td>sparkling-water-yuefeiwang_local-1614535132510</td></tr>\n",
       "<tr><td>H2O_cluster_total_nodes:</td>\n",
       "<td>1</td></tr>\n",
       "<tr><td>H2O_cluster_free_memory:</td>\n",
       "<td>10.54 Gb</td></tr>\n",
       "<tr><td>H2O_cluster_total_cores:</td>\n",
       "<td>8</td></tr>\n",
       "<tr><td>H2O_cluster_allowed_cores:</td>\n",
       "<td>6</td></tr>\n",
       "<tr><td>H2O_cluster_status:</td>\n",
       "<td>locked, healthy</td></tr>\n",
       "<tr><td>H2O_connection_url:</td>\n",
       "<td>http://192.168.1.7:54323</td></tr>\n",
       "<tr><td>H2O_connection_proxy:</td>\n",
       "<td>null</td></tr>\n",
       "<tr><td>H2O_internal_security:</td>\n",
       "<td>False</td></tr>\n",
       "<tr><td>H2O_API_Extensions:</td>\n",
       "<td>XGBoost, Algos, Amazon S3, Sparkling Water REST API Extensions, AutoML, Core V3, TargetEncoder, Core V4</td></tr>\n",
       "<tr><td>Python_version:</td>\n",
       "<td>3.8.3 final</td></tr></table></div>"
      ],
      "text/plain": [
       "--------------------------  -------------------------------------------------------------------------------------------------------\n",
       "H2O_cluster_uptime:         09 secs\n",
       "H2O_cluster_timezone:       America/Los_Angeles\n",
       "H2O_data_parsing_timezone:  UTC\n",
       "H2O_cluster_version:        3.32.0.4\n",
       "H2O_cluster_version_age:    26 days\n",
       "H2O_cluster_name:           sparkling-water-yuefeiwang_local-1614535132510\n",
       "H2O_cluster_total_nodes:    1\n",
       "H2O_cluster_free_memory:    10.54 Gb\n",
       "H2O_cluster_total_cores:    8\n",
       "H2O_cluster_allowed_cores:  6\n",
       "H2O_cluster_status:         locked, healthy\n",
       "H2O_connection_url:         http://192.168.1.7:54323\n",
       "H2O_connection_proxy:       null\n",
       "H2O_internal_security:      False\n",
       "H2O_API_Extensions:         XGBoost, Algos, Amazon S3, Sparkling Water REST API Extensions, AutoML, Core V3, TargetEncoder, Core V4\n",
       "Python_version:             3.8.3 final\n",
       "--------------------------  -------------------------------------------------------------------------------------------------------"
      ]
     },
     "metadata": {},
     "output_type": "display_data"
    },
    {
     "name": "stdout",
     "output_type": "stream",
     "text": [
      "\n",
      "Sparkling Water Context:\n",
      " * Sparkling Water Version: 3.32.0.4-1-3.0\n",
      " * H2O name: sparkling-water-yuefeiwang_local-1614535132510\n",
      " * cluster size: 1\n",
      " * list of used nodes:\n",
      "  (executorId, host, port)\n",
      "  ------------------------\n",
      "  (0,192.168.1.7,54321)\n",
      "  ------------------------\n",
      "\n",
      "  Open H2O Flow in browser: http://192.168.1.7:54323 (CMD + click in Mac OSX)\n",
      "\n",
      "    \n"
     ]
    }
   ],
   "source": [
    "hc = H2OContext.getOrCreate()"
   ]
  },
  {
   "cell_type": "markdown",
   "id": "swiss-conviction",
   "metadata": {},
   "source": [
    "# Question 1"
   ]
  },
  {
   "cell_type": "code",
   "execution_count": 5,
   "id": "mechanical-ghana",
   "metadata": {},
   "outputs": [],
   "source": [
    "# create spark dataframe\n",
    "train_df = ss.read.parquet(train_folder).repartition(8).cache()\n",
    "valid_df = ss.read.parquet(valid_folder).repartition(8).cache()"
   ]
  },
  {
   "cell_type": "code",
   "execution_count": 6,
   "id": "aerial-edgar",
   "metadata": {},
   "outputs": [],
   "source": [
    "# convert spark dataframe to h2oFrame\n",
    "train_h2o = hc.asH2OFrame(train_df, \"train\")\n",
    "valid_h2o = hc.asH2OFrame(valid_df, \"valid\")"
   ]
  },
  {
   "cell_type": "code",
   "execution_count": 7,
   "id": "taken-coaching",
   "metadata": {},
   "outputs": [],
   "source": [
    "train_h2o['label'] = train_h2o['label'].asfactor()\n",
    "valid_h2o['label'] = valid_h2o['label'].asfactor()"
   ]
  },
  {
   "cell_type": "code",
   "execution_count": 8,
   "id": "bizarre-carnival",
   "metadata": {},
   "outputs": [
    {
     "name": "stdout",
     "output_type": "stream",
     "text": [
      "{'features.0': 'real', 'features.1': 'real', 'features.2': 'real', 'features.3': 'real', 'features.4': 'real', 'features.5': 'real', 'features.6': 'real', 'features.7': 'real', 'features.8': 'real', 'features.9': 'real', 'features.10': 'real', 'features.11': 'real', 'features.12': 'real', 'features.13': 'real', 'features.14': 'real', 'features.15': 'real', 'features.16': 'real', 'features.17': 'real', 'features.18': 'real', 'features.19': 'real', 'features.20': 'real', 'features.21': 'real', 'features.22': 'real', 'features.23': 'real', 'features.24': 'real', 'features.25': 'real', 'features.26': 'real', 'features.27': 'real', 'features.28': 'real', 'features.29': 'real', 'features.30': 'real', 'features.31': 'real', 'features.32': 'real', 'features.33': 'real', 'features.34': 'real', 'features.35': 'real', 'features.36': 'int', 'features.37': 'int', 'label': 'enum'}\n"
     ]
    }
   ],
   "source": [
    "print(train_h2o.types)"
   ]
  },
  {
   "cell_type": "code",
   "execution_count": 9,
   "id": "binding-republican",
   "metadata": {},
   "outputs": [
    {
     "name": "stdout",
     "output_type": "stream",
     "text": [
      "{'features.0': 'real', 'features.1': 'real', 'features.2': 'real', 'features.3': 'real', 'features.4': 'real', 'features.5': 'real', 'features.6': 'real', 'features.7': 'real', 'features.8': 'real', 'features.9': 'real', 'features.10': 'real', 'features.11': 'real', 'features.12': 'real', 'features.13': 'real', 'features.14': 'real', 'features.15': 'real', 'features.16': 'real', 'features.17': 'real', 'features.18': 'real', 'features.19': 'real', 'features.20': 'real', 'features.21': 'real', 'features.22': 'real', 'features.23': 'real', 'features.24': 'real', 'features.25': 'real', 'features.26': 'real', 'features.27': 'real', 'features.28': 'real', 'features.29': 'real', 'features.30': 'real', 'features.31': 'real', 'features.32': 'real', 'features.33': 'real', 'features.34': 'real', 'features.35': 'real', 'features.36': 'int', 'features.37': 'int', 'label': 'enum'}\n"
     ]
    }
   ],
   "source": [
    "print(valid_h2o.types)"
   ]
  },
  {
   "cell_type": "markdown",
   "id": "unable-welcome",
   "metadata": {},
   "source": [
    "# Question 2"
   ]
  },
  {
   "cell_type": "code",
   "execution_count": 10,
   "id": "stylish-slide",
   "metadata": {},
   "outputs": [],
   "source": [
    "predictors = train_h2o.names[:]\n",
    "response = 'label'\n",
    "predictors.remove(response)"
   ]
  },
  {
   "cell_type": "code",
   "execution_count": 11,
   "id": "arbitrary-endorsement",
   "metadata": {},
   "outputs": [
    {
     "name": "stdout",
     "output_type": "stream",
     "text": [
      "['features.0', 'features.1', 'features.2', 'features.3', 'features.4', 'features.5', 'features.6', 'features.7', 'features.8', 'features.9', 'features.10', 'features.11', 'features.12', 'features.13', 'features.14', 'features.15', 'features.16', 'features.17', 'features.18', 'features.19', 'features.20', 'features.21', 'features.22', 'features.23', 'features.24', 'features.25', 'features.26', 'features.27', 'features.28', 'features.29', 'features.30', 'features.31', 'features.32', 'features.33', 'features.34', 'features.35', 'features.36', 'features.37']\n"
     ]
    }
   ],
   "source": [
    "print(predictors)"
   ]
  },
  {
   "cell_type": "markdown",
   "id": "pleased-charleston",
   "metadata": {},
   "source": [
    "# Question 3"
   ]
  },
  {
   "cell_type": "code",
   "execution_count": 13,
   "id": "polar-generation",
   "metadata": {},
   "outputs": [
    {
     "name": "stdout",
     "output_type": "stream",
     "text": [
      "xgboost Model Build progress: |███████████████████████████████████████████| 100%\n"
     ]
    }
   ],
   "source": [
    "model_xg = H2OXGBoostEstimator(max_runtime_secs=max_runtime_secs,\n",
    "                               nfolds=n_fold,\n",
    "                               seed=seed)\n",
    "model_xg.train(x=predictors,\n",
    "               y=response,\n",
    "               training_frame=train_h2o,\n",
    "               validation_frame=valid_h2o\n",
    "            )"
   ]
  },
  {
   "cell_type": "code",
   "execution_count": 14,
   "id": "together-balance",
   "metadata": {},
   "outputs": [
    {
     "name": "stdout",
     "output_type": "stream",
     "text": [
      "0.8658\n"
     ]
    }
   ],
   "source": [
    "print(round(model_xg.auc(valid=True),n_digits))  # print ROC of the validation set"
   ]
  },
  {
   "cell_type": "code",
   "execution_count": 15,
   "id": "featured-caution",
   "metadata": {},
   "outputs": [
    {
     "name": "stdout",
     "output_type": "stream",
     "text": [
      "\n",
      "Confusion Matrix (Act/Pred) for max f1 @ threshold = 0.37029208699291444: \n"
     ]
    },
    {
     "data": {
      "text/html": [
       "<div>\n",
       "<style scoped>\n",
       "    .dataframe tbody tr th:only-of-type {\n",
       "        vertical-align: middle;\n",
       "    }\n",
       "\n",
       "    .dataframe tbody tr th {\n",
       "        vertical-align: top;\n",
       "    }\n",
       "\n",
       "    .dataframe thead th {\n",
       "        text-align: right;\n",
       "    }\n",
       "</style>\n",
       "<table border=\"1\" class=\"dataframe\">\n",
       "  <thead>\n",
       "    <tr style=\"text-align: right;\">\n",
       "      <th></th>\n",
       "      <th></th>\n",
       "      <th>0</th>\n",
       "      <th>1</th>\n",
       "      <th>Error</th>\n",
       "      <th>Rate</th>\n",
       "    </tr>\n",
       "  </thead>\n",
       "  <tbody>\n",
       "    <tr>\n",
       "      <th>0</th>\n",
       "      <td>0</td>\n",
       "      <td>678728.0</td>\n",
       "      <td>170815.0</td>\n",
       "      <td>0.2011</td>\n",
       "      <td>(170815.0/849543.0)</td>\n",
       "    </tr>\n",
       "    <tr>\n",
       "      <th>1</th>\n",
       "      <td>1</td>\n",
       "      <td>80056.0</td>\n",
       "      <td>249863.0</td>\n",
       "      <td>0.2427</td>\n",
       "      <td>(80056.0/329919.0)</td>\n",
       "    </tr>\n",
       "    <tr>\n",
       "      <th>2</th>\n",
       "      <td>Total</td>\n",
       "      <td>758784.0</td>\n",
       "      <td>420678.0</td>\n",
       "      <td>0.2127</td>\n",
       "      <td>(250871.0/1179462.0)</td>\n",
       "    </tr>\n",
       "  </tbody>\n",
       "</table>\n",
       "</div>"
      ],
      "text/plain": [
       "                 0         1   Error                   Rate\n",
       "0      0  678728.0  170815.0  0.2011    (170815.0/849543.0)\n",
       "1      1   80056.0  249863.0  0.2427     (80056.0/329919.0)\n",
       "2  Total  758784.0  420678.0  0.2127   (250871.0/1179462.0)"
      ]
     },
     "metadata": {},
     "output_type": "display_data"
    },
    {
     "name": "stdout",
     "output_type": "stream",
     "text": [
      "\n"
     ]
    }
   ],
   "source": [
    "print(model_xg.confusion_matrix(valid=True))  # print confusion matrix for the validation set"
   ]
  },
  {
   "cell_type": "markdown",
   "id": "southeast-popularity",
   "metadata": {},
   "source": [
    "# Question 4"
   ]
  },
  {
   "cell_type": "code",
   "execution_count": 24,
   "id": "flush-introduction",
   "metadata": {},
   "outputs": [
    {
     "name": "stdout",
     "output_type": "stream",
     "text": [
      "deeplearning Model Build progress: |██████████████████████████████████████| 100%\n"
     ]
    }
   ],
   "source": [
    "model_dl =H2ODeepLearningEstimator(nfolds=n_fold, \n",
    "                                   variable_importances=True,\n",
    "                                   loss='Automatic',\n",
    "                                   max_runtime_secs=max_runtime_secs,\n",
    "                                   seed=seed)\n",
    "model_dl.train(x=predictors,\n",
    "               y=response,\n",
    "               training_frame=train_h2o,\n",
    "               validation_frame=valid_h2o)"
   ]
  },
  {
   "cell_type": "code",
   "execution_count": 25,
   "id": "dominant-market",
   "metadata": {},
   "outputs": [
    {
     "name": "stdout",
     "output_type": "stream",
     "text": [
      "0.9448\n"
     ]
    }
   ],
   "source": [
    "print(round(model_dl.auc(valid=True),n_digits)) "
   ]
  },
  {
   "cell_type": "code",
   "execution_count": 26,
   "id": "secure-reflection",
   "metadata": {},
   "outputs": [
    {
     "name": "stdout",
     "output_type": "stream",
     "text": [
      "\n",
      "Confusion Matrix (Act/Pred) for max f1 @ threshold = 0.36022527328601067: \n"
     ]
    },
    {
     "data": {
      "text/html": [
       "<div>\n",
       "<style scoped>\n",
       "    .dataframe tbody tr th:only-of-type {\n",
       "        vertical-align: middle;\n",
       "    }\n",
       "\n",
       "    .dataframe tbody tr th {\n",
       "        vertical-align: top;\n",
       "    }\n",
       "\n",
       "    .dataframe thead th {\n",
       "        text-align: right;\n",
       "    }\n",
       "</style>\n",
       "<table border=\"1\" class=\"dataframe\">\n",
       "  <thead>\n",
       "    <tr style=\"text-align: right;\">\n",
       "      <th></th>\n",
       "      <th></th>\n",
       "      <th>0</th>\n",
       "      <th>1</th>\n",
       "      <th>Error</th>\n",
       "      <th>Rate</th>\n",
       "    </tr>\n",
       "  </thead>\n",
       "  <tbody>\n",
       "    <tr>\n",
       "      <th>0</th>\n",
       "      <td>0</td>\n",
       "      <td>739742.0</td>\n",
       "      <td>109801.0</td>\n",
       "      <td>0.1292</td>\n",
       "      <td>(109801.0/849543.0)</td>\n",
       "    </tr>\n",
       "    <tr>\n",
       "      <th>1</th>\n",
       "      <td>1</td>\n",
       "      <td>43432.0</td>\n",
       "      <td>286487.0</td>\n",
       "      <td>0.1316</td>\n",
       "      <td>(43432.0/329919.0)</td>\n",
       "    </tr>\n",
       "    <tr>\n",
       "      <th>2</th>\n",
       "      <td>Total</td>\n",
       "      <td>783174.0</td>\n",
       "      <td>396288.0</td>\n",
       "      <td>0.1299</td>\n",
       "      <td>(153233.0/1179462.0)</td>\n",
       "    </tr>\n",
       "  </tbody>\n",
       "</table>\n",
       "</div>"
      ],
      "text/plain": [
       "                 0         1   Error                   Rate\n",
       "0      0  739742.0  109801.0  0.1292    (109801.0/849543.0)\n",
       "1      1   43432.0  286487.0  0.1316     (43432.0/329919.0)\n",
       "2  Total  783174.0  396288.0  0.1299   (153233.0/1179462.0)"
      ]
     },
     "metadata": {},
     "output_type": "display_data"
    },
    {
     "name": "stdout",
     "output_type": "stream",
     "text": [
      "\n"
     ]
    }
   ],
   "source": [
    "print(model_dl.confusion_matrix(valid=True)) "
   ]
  },
  {
   "cell_type": "code",
   "execution_count": 27,
   "id": "manual-lingerie",
   "metadata": {},
   "outputs": [],
   "source": [
    "ss.stop()"
   ]
  },
  {
   "cell_type": "code",
   "execution_count": null,
   "id": "activated-season",
   "metadata": {},
   "outputs": [],
   "source": []
  }
 ],
 "metadata": {
  "kernelspec": {
   "display_name": "Python 3",
   "language": "python",
   "name": "python3"
  },
  "language_info": {
   "codemirror_mode": {
    "name": "ipython",
    "version": 3
   },
   "file_extension": ".py",
   "mimetype": "text/x-python",
   "name": "python",
   "nbconvert_exporter": "python",
   "pygments_lexer": "ipython3",
   "version": "3.8.3"
  }
 },
 "nbformat": 4,
 "nbformat_minor": 5
}
