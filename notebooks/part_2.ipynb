{
 "cells": [
  {
   "cell_type": "code",
   "execution_count": 1,
   "id": "stock-quest",
   "metadata": {},
   "outputs": [],
   "source": [
    "from pyspark.sql import SparkSession\n",
    "from pyspark.sql import Window\n",
    "from pyspark.sql.types import *\n",
    "from pyspark.sql.functions import *"
   ]
  },
  {
   "cell_type": "code",
   "execution_count": 2,
   "id": "digital-palace",
   "metadata": {},
   "outputs": [],
   "source": [
    "# output_1.txt\n",
    "activity_string = 'drinking'\n",
    "database = 'postgres'\n",
    "eating_strings = [\"eating\", \"drinking\"]\n",
    "endpoint = 'msds694.cmxsootjz10m.us-west-2.rds.amazonaws.com'\n",
    "files = './WISDM/*/*/'\n",
    "n = 20\n",
    "properties = {'user': 'students', 'password': 'msdsstudents'}\n",
    "subject_id = 1613\n",
    "table = 'activity_code'\n",
    "url = 'jdbc:postgresql://%s/%s' % (endpoint, database)\n",
    "\n",
    "# output_2.txt\n",
    "# activity_string = 'walking'\n",
    "# database = 'postgres'\n",
    "# eating_strings = [\"eating\"]\n",
    "# endpoint = 'msds694.cmxsootjz10m.us-west-2.rds.amazonaws.com'\n",
    "# files = './WISDM/*/*/'\n",
    "# n = 10\n",
    "# properties = {'user': 'students', 'password': 'msdsstudents'}\n",
    "# subject_id = 1600\n",
    "# table = 'activity_code'\n",
    "# url = 'jdbc:postgresql://%s/%s' % (endpoint, database)\n",
    "\n",
    "\n",
    "def retrive_file_name(x):\n",
    "    \"\"\"Returns subject_id, sensor, device and an arry of readings\"\"\"\n",
    "    file_name = x[0].split(\"/\")[-1].split(\".txt\")[0]\n",
    "    file_arg = file_name.split(\"_\")\n",
    "    return (file_arg[1], file_arg[2], file_arg[3], x[1])\n",
    "\n",
    "\n",
    "def convert_to_integer(x):\n",
    "    \"\"\"Convert a value to integer\"\"\"\n",
    "    try:\n",
    "        return int(x)\n",
    "    except ValueError:\n",
    "        return None\n",
    "\n",
    "\n",
    "def convert_to_float(x):\n",
    "    \"\"\"Convert a value to float\"\"\"\n",
    "    try:\n",
    "        return float(x)\n",
    "    except ValueError:\n",
    "        return None\n",
    "\n",
    "\n",
    "def conver_to_string(x):\n",
    "    \"\"\"Convert a value to string\"\"\"\n",
    "    try:\n",
    "        return str(x)\n",
    "    except ValueError:\n",
    "        return None\n",
    "\n",
    "\n",
    "def check_same_user(x):\n",
    "    \"\"\"\n",
    "    Return subject_id in the file name\n",
    "    that is same as subject_id in the content.\n",
    "    \"\"\"\n",
    "    if (x is not None and x[0] == x[3]):\n",
    "        return (x[0], x[1], x[2], x[4], x[5], x[6], x[7], x[8])\n",
    "\n",
    "\n",
    "def return_no_none_rows(x):\n",
    "    \"\"\"Return True if all the readings are not None\"\"\"\n",
    "    if (x is not None and\n",
    "            x[0] is not None and x[1] is not None and x[1] is not None and\n",
    "            x[2] is not None and x[3] is not None and x[4] is not None and\n",
    "            x[5] is not None and x[6] is not None and x[7] is not None):\n",
    "        # if(x[5] == 0 or x[6] == 0 or x[7] == 0):\n",
    "        return True\n",
    "    else:\n",
    "        return False\n",
    "\n",
    "\n",
    "def create_flat_rdd(x):\n",
    "    \"\"\"\n",
    "    Returns subject_id, sensor, device and\n",
    "    subject_id, activity_code, x, y, z readings\n",
    "    \"\"\"\n",
    "    values = x[3].split(\",\")\n",
    "    if len(values) == 6:\n",
    "        return (convert_to_integer(x[0]),\n",
    "                x[1],\n",
    "                x[2],\n",
    "                convert_to_integer(values[0]),\n",
    "                conver_to_string(values[1]),\n",
    "                convert_to_integer(values[2]),\n",
    "                convert_to_float(values[3]),\n",
    "                convert_to_float(values[4]),\n",
    "                convert_to_float(values[5]))\n",
    "\n",
    "\n",
    "def file_rdd(ss, files):\n",
    "    \"\"\"Create a pair RDD using wholeTextFiles\"\"\"\n",
    "    return ss.sparkContext.wholeTextFiles(files)\n",
    "\n",
    "\n",
    "def create_activity_df(ss, files_rdd, schema):\n",
    "    \"\"\"Create dataframe using the schema\"\"\"\n",
    "    activity_data_rdd = files_rdd.mapValues(lambda x: x.split(\";\\n\"))\\\n",
    "        .flatMapValues(lambda x: x)\\\n",
    "        .map(retrive_file_name)\\\n",
    "        .map(create_flat_rdd)\\\n",
    "        .map(check_same_user)\\\n",
    "        .filter(return_no_none_rows)\n",
    "\n",
    "    return ss.createDataFrame(activity_data_rdd, schema)\n"
   ]
  },
  {
   "cell_type": "markdown",
   "id": "chubby-dinner",
   "metadata": {},
   "source": [
    "# Question 1"
   ]
  },
  {
   "cell_type": "code",
   "execution_count": 3,
   "id": "vital-blade",
   "metadata": {},
   "outputs": [],
   "source": [
    "ss = SparkSession.builder.config('spark.driver.extraClassPath','postgresql-42.2.18.jar')\\\n",
    "                        .config(\"spark.executor.memory\", \"5g\")\\\n",
    "                        .config(\"spark.driver.memory\", \"5g\").getOrCreate()\n"
   ]
  },
  {
   "cell_type": "code",
   "execution_count": 4,
   "id": "electronic-cancellation",
   "metadata": {},
   "outputs": [],
   "source": [
    "# endpoint = 'msds694.cmxsootjz10m.us-west-2.rds.amazonaws.com'\n",
    "# database = 'postgres'\n",
    "# table = 'activity_code'\n",
    "# properties = {'user': 'students', 'password': 'msdsstudents'}\n",
    "# url = 'jdbc:postgresql://%s/%s' % (endpoint, database)"
   ]
  },
  {
   "cell_type": "code",
   "execution_count": 5,
   "id": "forbidden-matthew",
   "metadata": {},
   "outputs": [],
   "source": [
    "activity_code = ss.read.jdbc(url=url, table=table, properties=properties)"
   ]
  },
  {
   "cell_type": "code",
   "execution_count": 6,
   "id": "egyptian-horizontal",
   "metadata": {},
   "outputs": [
    {
     "name": "stdout",
     "output_type": "stream",
     "text": [
      "18\n"
     ]
    }
   ],
   "source": [
    "num_distinct_act = activity_code.distinct().count()\n",
    "print(num_distinct_act)"
   ]
  },
  {
   "cell_type": "markdown",
   "id": "appointed-moral",
   "metadata": {},
   "source": [
    "# Question 2"
   ]
  },
  {
   "cell_type": "code",
   "execution_count": 7,
   "id": "rolled-engagement",
   "metadata": {},
   "outputs": [
    {
     "name": "stdout",
     "output_type": "stream",
     "text": [
      "+---------------------------+----+\n",
      "|activity                   |code|\n",
      "+---------------------------+----+\n",
      "|Writing                    |Q   |\n",
      "|Walking                    |A   |\n",
      "|Typing                     |F   |\n",
      "|Standing                   |E   |\n",
      "|Stairs                     |C   |\n",
      "|Sitting                    |D   |\n",
      "|Playing Catch w/Tennis Ball|O   |\n",
      "|Kicking Soccer Ball        |M   |\n",
      "|Jogging                    |B   |\n",
      "|Folding Clothes            |S   |\n",
      "|Eating Soup                |H   |\n",
      "|Eating Sandwich            |L   |\n",
      "|Eating Pasta               |J   |\n",
      "|Eating Chips               |I   |\n",
      "|Drinking from Cup          |K   |\n",
      "|Dribblinlg Basketball      |P   |\n",
      "|Clapping                   |R   |\n",
      "|Brushing Teeth             |G   |\n",
      "+---------------------------+----+\n",
      "\n"
     ]
    }
   ],
   "source": [
    "activity_code.orderBy('activity', ascending=False).show(\n",
    "    truncate=False)  # Show the full name by using truncate"
   ]
  },
  {
   "cell_type": "markdown",
   "id": "paperback-identifier",
   "metadata": {},
   "source": [
    "# Question 3"
   ]
  },
  {
   "cell_type": "code",
   "execution_count": 8,
   "id": "stuffed-empire",
   "metadata": {},
   "outputs": [],
   "source": [
    "# eating_strings = [\"eating\", \"drinking\"]"
   ]
  },
  {
   "cell_type": "code",
   "execution_count": 9,
   "id": "engaging-mercury",
   "metadata": {},
   "outputs": [],
   "source": [
    "def check_eating(x):\n",
    "    tracker = 0\n",
    "    for i in eating_strings:\n",
    "        if i in x:\n",
    "            tracker = tracker + 1\n",
    "    if tracker >= 1:\n",
    "        return True\n",
    "    else:\n",
    "        return False\n",
    "\n",
    "\n",
    "# Register the function as UDF\n",
    "check_eating_udf = udf(check_eating, BooleanType())   # From class example 3"
   ]
  },
  {
   "cell_type": "code",
   "execution_count": 10,
   "id": "literary-biology",
   "metadata": {},
   "outputs": [],
   "source": [
    "eating_df = activity_code.withColumn('eating', check_eating_udf(lower(\n",
    "    activity_code['activity']))).orderBy('eating', 'code', ascending=[False, True])"
   ]
  },
  {
   "cell_type": "code",
   "execution_count": 11,
   "id": "floral-console",
   "metadata": {},
   "outputs": [
    {
     "name": "stdout",
     "output_type": "stream",
     "text": [
      "root\n",
      " |-- activity: string (nullable = true)\n",
      " |-- code: string (nullable = true)\n",
      " |-- eating: boolean (nullable = true)\n",
      "\n"
     ]
    }
   ],
   "source": [
    "eating_df.printSchema()"
   ]
  },
  {
   "cell_type": "code",
   "execution_count": 12,
   "id": "modular-pavilion",
   "metadata": {},
   "outputs": [
    {
     "name": "stdout",
     "output_type": "stream",
     "text": [
      "+--------------------+----+------+\n",
      "|            activity|code|eating|\n",
      "+--------------------+----+------+\n",
      "|         Eating Soup|   H|  true|\n",
      "|        Eating Chips|   I|  true|\n",
      "|        Eating Pasta|   J|  true|\n",
      "|   Drinking from Cup|   K|  true|\n",
      "|     Eating Sandwich|   L|  true|\n",
      "|             Walking|   A| false|\n",
      "|             Jogging|   B| false|\n",
      "|              Stairs|   C| false|\n",
      "|             Sitting|   D| false|\n",
      "|            Standing|   E| false|\n",
      "|              Typing|   F| false|\n",
      "|      Brushing Teeth|   G| false|\n",
      "| Kicking Soccer Ball|   M| false|\n",
      "|Playing Catch w/T...|   O| false|\n",
      "|Dribblinlg Basket...|   P| false|\n",
      "|             Writing|   Q| false|\n",
      "|            Clapping|   R| false|\n",
      "|     Folding Clothes|   S| false|\n",
      "+--------------------+----+------+\n",
      "\n"
     ]
    }
   ],
   "source": [
    "eating_df.show()"
   ]
  },
  {
   "cell_type": "markdown",
   "id": "breeding-representative",
   "metadata": {},
   "source": [
    "# Question 4"
   ]
  },
  {
   "cell_type": "code",
   "execution_count": 13,
   "id": "christian-satisfaction",
   "metadata": {},
   "outputs": [],
   "source": [
    "schema = StructType([StructField('subject_id', IntegerType(), False),\n",
    "                     StructField('sensor', StringType(), False),\n",
    "                     StructField('device', StringType(), False),\n",
    "                     StructField('activity_code', StringType(), False),\n",
    "                     StructField('timestamp', LongType(), False),\n",
    "                     StructField('x', FloatType(), False),\n",
    "                     StructField('y', FloatType(), False),\n",
    "                     StructField('z', FloatType(), False)])"
   ]
  },
  {
   "cell_type": "code",
   "execution_count": 14,
   "id": "bulgarian-nigeria",
   "metadata": {},
   "outputs": [],
   "source": [
    "# Load the data to rdds\n",
    "files_rdd = file_rdd(ss, files)"
   ]
  },
  {
   "cell_type": "code",
   "execution_count": 15,
   "id": "attempted-textbook",
   "metadata": {},
   "outputs": [],
   "source": [
    "# Create the spark dataframe\n",
    "files_df = create_activity_df(ss, files_rdd, schema)\n",
    "# files_df.show(5)"
   ]
  },
  {
   "cell_type": "code",
   "execution_count": 16,
   "id": "electric-archive",
   "metadata": {},
   "outputs": [
    {
     "name": "stdout",
     "output_type": "stream",
     "text": [
      "+----------+------+------+-----+\n",
      "|subject_id|sensor|device|count|\n",
      "+----------+------+------+-----+\n",
      "|      1600| accel| phone|   18|\n",
      "|      1600|  gyro| phone|   18|\n",
      "|      1600| accel| watch|   18|\n",
      "|      1600|  gyro| watch|   18|\n",
      "|      1601| accel| phone|   18|\n",
      "|      1601|  gyro| phone|   18|\n",
      "|      1601| accel| watch|   18|\n",
      "|      1601|  gyro| watch|   18|\n",
      "|      1602| accel| phone|   18|\n",
      "|      1602|  gyro| phone|   18|\n",
      "|      1602| accel| watch|   18|\n",
      "|      1602|  gyro| watch|   18|\n",
      "|      1603| accel| phone|   18|\n",
      "|      1603|  gyro| phone|   18|\n",
      "|      1603| accel| watch|   18|\n",
      "|      1603|  gyro| watch|   18|\n",
      "|      1604| accel| phone|   18|\n",
      "|      1604|  gyro| phone|   18|\n",
      "|      1604| accel| watch|   18|\n",
      "|      1604|  gyro| watch|   18|\n",
      "|      1605| accel| phone|   18|\n",
      "|      1605|  gyro| phone|   18|\n",
      "|      1605| accel| watch|   18|\n",
      "|      1605|  gyro| watch|   18|\n",
      "|      1606| accel| phone|   18|\n",
      "|      1606|  gyro| phone|   18|\n",
      "|      1606| accel| watch|   18|\n",
      "|      1606|  gyro| watch|   18|\n",
      "|      1607| accel| phone|   17|\n",
      "|      1607|  gyro| phone|   17|\n",
      "|      1607| accel| watch|   18|\n",
      "|      1607|  gyro| watch|   18|\n",
      "|      1608| accel| phone|   18|\n",
      "|      1608|  gyro| phone|   18|\n",
      "|      1608| accel| watch|   18|\n",
      "|      1608|  gyro| watch|   18|\n",
      "|      1609| accel| phone|   17|\n",
      "|      1609|  gyro| phone|   17|\n",
      "|      1609| accel| watch|   18|\n",
      "|      1609|  gyro| watch|   18|\n",
      "|      1610| accel| phone|   18|\n",
      "|      1610|  gyro| phone|   18|\n",
      "|      1610| accel| watch|   18|\n",
      "|      1610|  gyro| watch|   18|\n",
      "|      1611| accel| phone|   18|\n",
      "|      1611|  gyro| phone|   18|\n",
      "|      1611| accel| watch|   18|\n",
      "|      1611|  gyro| watch|   18|\n",
      "|      1612| accel| phone|   18|\n",
      "|      1612|  gyro| phone|   18|\n",
      "|      1612| accel| watch|   18|\n",
      "|      1612|  gyro| watch|   18|\n",
      "|      1613| accel| phone|   18|\n",
      "|      1613|  gyro| phone|   18|\n",
      "|      1613| accel| watch|   18|\n",
      "|      1613|  gyro| watch|   18|\n",
      "|      1614| accel| phone|   18|\n",
      "|      1614|  gyro| phone|   18|\n",
      "|      1614| accel| watch|   18|\n",
      "|      1614|  gyro| watch|   18|\n",
      "|      1615| accel| phone|   18|\n",
      "|      1615|  gyro| phone|   18|\n",
      "|      1615| accel| watch|   18|\n",
      "|      1615|  gyro| watch|   18|\n",
      "|      1616| accel| phone|   16|\n",
      "|      1616|  gyro| phone|   16|\n",
      "|      1616| accel| watch|   17|\n",
      "|      1616|  gyro| watch|   17|\n",
      "|      1617| accel| phone|   18|\n",
      "|      1617|  gyro| phone|   18|\n",
      "|      1617| accel| watch|   18|\n",
      "|      1617|  gyro| watch|   18|\n",
      "|      1618| accel| phone|   17|\n",
      "|      1618|  gyro| phone|   17|\n",
      "|      1618| accel| watch|   17|\n",
      "|      1618|  gyro| watch|   17|\n",
      "|      1619| accel| phone|   18|\n",
      "|      1619|  gyro| phone|   18|\n",
      "|      1619| accel| watch|   18|\n",
      "|      1619|  gyro| watch|   18|\n",
      "|      1620| accel| phone|   18|\n",
      "|      1620|  gyro| phone|   18|\n",
      "|      1620| accel| watch|   18|\n",
      "|      1620|  gyro| watch|   18|\n",
      "|      1621| accel| phone|   18|\n",
      "|      1621|  gyro| phone|   18|\n",
      "|      1621| accel| watch|   18|\n",
      "|      1621|  gyro| watch|   18|\n",
      "|      1622| accel| phone|   18|\n",
      "|      1622|  gyro| phone|   18|\n",
      "|      1622| accel| watch|   18|\n",
      "|      1622|  gyro| watch|   18|\n",
      "|      1623| accel| phone|   18|\n",
      "|      1623|  gyro| phone|   18|\n",
      "|      1623| accel| watch|   18|\n",
      "|      1623|  gyro| watch|   18|\n",
      "|      1624| accel| phone|   18|\n",
      "|      1624|  gyro| phone|   18|\n",
      "|      1624| accel| watch|   18|\n",
      "|      1624|  gyro| watch|   18|\n",
      "|      1625| accel| phone|   18|\n",
      "|      1625|  gyro| phone|   18|\n",
      "|      1625| accel| watch|   18|\n",
      "|      1625|  gyro| watch|   18|\n",
      "|      1626| accel| phone|   18|\n",
      "|      1626|  gyro| phone|   18|\n",
      "|      1626| accel| watch|   18|\n",
      "|      1626|  gyro| watch|   18|\n",
      "|      1627| accel| phone|   18|\n",
      "|      1627|  gyro| phone|   18|\n",
      "|      1627| accel| watch|   18|\n",
      "|      1627|  gyro| watch|   18|\n",
      "|      1628| accel| phone|   18|\n",
      "|      1628|  gyro| phone|   18|\n",
      "|      1628| accel| watch|   18|\n",
      "|      1628|  gyro| watch|   18|\n",
      "|      1629| accel| phone|   18|\n",
      "|      1629|  gyro| phone|   18|\n",
      "|      1629| accel| watch|   18|\n",
      "|      1629|  gyro| watch|   18|\n",
      "|      1630| accel| phone|   18|\n",
      "|      1630|  gyro| phone|   18|\n",
      "|      1630| accel| watch|   18|\n",
      "|      1630|  gyro| watch|   18|\n",
      "|      1631| accel| phone|   18|\n",
      "|      1631|  gyro| phone|   18|\n",
      "|      1631| accel| watch|   18|\n",
      "|      1631|  gyro| watch|   18|\n",
      "|      1632| accel| phone|   18|\n",
      "|      1632|  gyro| phone|   18|\n",
      "|      1632| accel| watch|   18|\n",
      "|      1632|  gyro| watch|   18|\n",
      "|      1633| accel| phone|   18|\n",
      "|      1633|  gyro| phone|   18|\n",
      "|      1633| accel| watch|   18|\n",
      "|      1633|  gyro| watch|   18|\n",
      "|      1634| accel| phone|   18|\n",
      "|      1634|  gyro| phone|   18|\n",
      "|      1634| accel| watch|   18|\n",
      "|      1634|  gyro| watch|   18|\n",
      "|      1635| accel| phone|   18|\n",
      "|      1635|  gyro| phone|   18|\n",
      "|      1635| accel| watch|   18|\n",
      "|      1635|  gyro| watch|   18|\n",
      "|      1636| accel| phone|   18|\n",
      "|      1636|  gyro| phone|   18|\n",
      "|      1636| accel| watch|   18|\n",
      "|      1636|  gyro| watch|   18|\n",
      "|      1637| accel| phone|   18|\n",
      "|      1637|  gyro| phone|   18|\n",
      "|      1637| accel| watch|   17|\n",
      "|      1637|  gyro| watch|   16|\n",
      "|      1638| accel| phone|   18|\n",
      "|      1638|  gyro| phone|   18|\n",
      "|      1638| accel| watch|   18|\n",
      "|      1638|  gyro| watch|   16|\n",
      "|      1639| accel| phone|   18|\n",
      "|      1639|  gyro| phone|   18|\n",
      "|      1639| accel| watch|   17|\n",
      "|      1639|  gyro| watch|   17|\n",
      "|      1640| accel| phone|   18|\n",
      "|      1640|  gyro| phone|   18|\n",
      "|      1640| accel| watch|   18|\n",
      "|      1640|  gyro| watch|   16|\n",
      "|      1641| accel| phone|   18|\n",
      "|      1641|  gyro| phone|   17|\n",
      "|      1641| accel| watch|   18|\n",
      "|      1641|  gyro| watch|   18|\n",
      "|      1642| accel| phone|   16|\n",
      "|      1642|  gyro| phone|   16|\n",
      "|      1642| accel| watch|   16|\n",
      "|      1642|  gyro| watch|   16|\n",
      "|      1643| accel| phone|   17|\n",
      "|      1643|  gyro| phone|   17|\n",
      "|      1643| accel| watch|   18|\n",
      "|      1643|  gyro| watch|   18|\n",
      "|      1644| accel| phone|   18|\n",
      "|      1644|  gyro| phone|   17|\n",
      "|      1644| accel| watch|   18|\n",
      "|      1644|  gyro| watch|   18|\n",
      "|      1645| accel| phone|   18|\n",
      "|      1645|  gyro| phone|   18|\n",
      "|      1645| accel| watch|   18|\n",
      "|      1645|  gyro| watch|   18|\n",
      "|      1646| accel| phone|   18|\n",
      "|      1646|  gyro| phone|   18|\n",
      "|      1646| accel| watch|   18|\n",
      "|      1646|  gyro| watch|   18|\n",
      "|      1647| accel| phone|   18|\n",
      "|      1647|  gyro| phone|   18|\n",
      "|      1647| accel| watch|   18|\n",
      "|      1647|  gyro| watch|   18|\n",
      "|      1648| accel| phone|   18|\n",
      "|      1648|  gyro| phone|   18|\n",
      "|      1648| accel| watch|   18|\n",
      "|      1648|  gyro| watch|   18|\n",
      "|      1649| accel| phone|   18|\n",
      "|      1649|  gyro| phone|   18|\n",
      "|      1649| accel| watch|   18|\n",
      "|      1649|  gyro| watch|   18|\n",
      "|      1650| accel| phone|   18|\n",
      "|      1650|  gyro| phone|   18|\n",
      "|      1650| accel| watch|   18|\n",
      "|      1650|  gyro| watch|   18|\n",
      "+----------+------+------+-----+\n",
      "\n"
     ]
    }
   ],
   "source": [
    "result4 = files_df.select('subject_id', 'sensor', 'device', 'activity_code').distinct(\n",
    ").groupBy('subject_id', 'sensor', 'device').count().orderBy('subject_id', 'device', 'sensor')\n",
    "\n",
    "result4.show(result4.count())"
   ]
  },
  {
   "cell_type": "markdown",
   "id": "trained-think",
   "metadata": {},
   "source": [
    "# Question 5"
   ]
  },
  {
   "cell_type": "code",
   "execution_count": 17,
   "id": "decimal-enzyme",
   "metadata": {},
   "outputs": [],
   "source": [
    "# activity_code.show()\n",
    "# files_df.show(5)"
   ]
  },
  {
   "cell_type": "code",
   "execution_count": 18,
   "id": "mediterranean-princeton",
   "metadata": {},
   "outputs": [],
   "source": [
    "joined_df = files_df.join(\n",
    "    activity_code, files_df.activity_code == activity_code.code).cache()"
   ]
  },
  {
   "cell_type": "code",
   "execution_count": 19,
   "id": "entertaining-differential",
   "metadata": {},
   "outputs": [],
   "source": [
    "# joined_df.show(5)"
   ]
  },
  {
   "cell_type": "code",
   "execution_count": 20,
   "id": "advised-monday",
   "metadata": {},
   "outputs": [],
   "source": [
    "selected_joined_df = joined_df.select(\n",
    "    'subject_id', 'activity', 'device', 'sensor', 'x', 'y', 'z', 'activity_code').cache()"
   ]
  },
  {
   "cell_type": "code",
   "execution_count": 21,
   "id": "hollow-milton",
   "metadata": {},
   "outputs": [],
   "source": [
    "# selected_joined_df.show(5)"
   ]
  },
  {
   "cell_type": "code",
   "execution_count": 22,
   "id": "duplicate-mouth",
   "metadata": {
    "scrolled": false
   },
   "outputs": [
    {
     "name": "stdout",
     "output_type": "stream",
     "text": [
      "+----------+--------------+------+------+-----------+-----------+-----------+--------------------+--------------------+--------------------+-----------+----------+----------+--------------------+--------------------+--------------------+--------------------+--------------------+--------------------+--------------------+--------------------+--------------------+--------------------+--------------------+--------------------+--------------------+--------------------+--------------------+--------------------+--------------------+-------------------+\n",
      "|subject_id|      activity|device|sensor|      x_min|      y_min|      z_min|               x_avg|               y_avg|               z_avg|      x_max|     y_max|     z_max|               x_05%|               y_05%|               z_05%|               x_25%|               y_25%|               z_25%|               x_50%|               y_50%|               z_50%|               x_75%|               y_75%|               z_75%|               x_95%|               y_95%|               z_95%|               x_std|               y_std|              z_std|\n",
      "+----------+--------------+------+------+-----------+-----------+-----------+--------------------+--------------------+--------------------+-----------+----------+----------+--------------------+--------------------+--------------------+--------------------+--------------------+--------------------+--------------------+--------------------+--------------------+--------------------+--------------------+--------------------+--------------------+--------------------+--------------------+--------------------+--------------------+-------------------+\n",
      "|      1600|Brushing Teeth| phone| accel|  4.0726776|   3.364563|   5.481781|   5.086127762963983|   3.783842994824465|   6.658815253124563|   5.453232|  5.961334|  7.217804|  4.9439544677734375|  3.6209869384765625|    6.51024169921875|  5.0460052490234375|  3.7137908935546875|   6.602386474609375|  5.0956268310546875|  3.7786102294921875|  6.6578216552734375|  5.1417388916015625|    3.83599853515625|  6.7143707275390625|    5.21021728515625|  3.9306610107421878|   6.810513305664062| 0.10063142410223846| 0.14936591682990502|0.10971417588509687|\n",
      "|      1600|Brushing Teeth| phone|  gyro|-0.26997375|-0.35455322|-0.50361633|-0.00214302830416...|-0.00350924786081...|0.001263183183314654| 0.19293213|0.28207397|0.27856445|-0.02939453124999...|  -0.049029541015625|-0.03087463378906...|    -0.0093994140625|    -0.0179443359375|       -0.0087890625|   -0.00164794921875| -0.0012664794921875|     0.0010986328125|  0.0071258544921875|  0.0112457275390625|  0.0110015869140625|0.028540039062499994| 0.04139099121093749| 0.04284362792968744|0.033124367495000265| 0.03899636876008254|0.05094017167236856|\n",
      "|      1600|Brushing Teeth| watch| accel|  -12.77546|  -9.912294| -3.9431005|  -8.650129826100631| -0.6670844456267563|   3.301280787856512| -3.7684734|  8.350677|  9.383026| -10.567647314071655|  -5.226841449737549| 0.15852607488632203|  -9.464877843856812|  -2.507028341293335|  2.0543746948242188|  -8.695740699768066| -0.6108207106590271|  3.3891420364379883| -7.9403698444366455|  1.1082161664962769|   4.503643035888672|  -6.478111147880555|   3.767455911636352|   6.337601661682129|  1.2460929724114211|  2.6987282770663352| 1.8691993059373568|\n",
      "|      1600|Brushing Teeth| watch|  gyro| -3.8220983| -1.8152101| -1.3109972|-0.00725435466272...|0.001499052400931...|-3.99921033505255...|  3.9533389| 3.5035338| 1.5620904| -1.1385607957839967| -0.7306291222572328| -0.7112392723560333| -0.4334157407283783|-0.29891054332256317| -0.3469334542751312|-0.02646649442613125|-1.91747603821568...|-0.02414128929376602|   0.396917387843132|   0.301429882645607| 0.33486267924308777|  1.1781174063682547|  0.7284441232681271|  0.7737274408340453|  0.7366143704598304| 0.45067042484407516|0.46178397284813805|\n",
      "|      1601|Brushing Teeth| phone| accel| -5.6784477| 0.16579847|  7.9691005| -4.2485020250035745|  0.9425582823414421|   8.601891354251844|  -3.376423| 1.8417397|  9.131485|  -4.424484729766846|  0.6442797064781189|    8.51138687133789|  -4.291007995605469|  0.8810662031173706|   8.577227592468262| -4.2293572425842285|  0.9917980432510376|   8.604761123657227|  -4.195838451385498|  1.0283095836639404|   8.628104209899902|  -4.103063106536865|  1.1058817625045774|   8.692508506774903| 0.11241023041171018|  0.1507684037655835|0.05919953249111029|\n",
      "|      1601|Brushing Teeth| phone|  gyro|-0.35579833|-0.23409186|-0.86233157|-0.01386964162900...|-0.00668312283052...|-0.01105279792103...| 0.42903525|0.19307919|0.65460503| -0.1337972193956375|-0.04048004746437073| -0.2541720986366272|-0.01837581209838...|-0.01038632821291...|-0.01491370238363...|-0.01411475427448...|-0.00692421896383...|-0.01038632821291...|-0.00958738010376...|-0.00319579336792...|-0.00612527038902...|  0.1059938162565224| 0.02822950854897499| 0.23888555467128608| 0.06582476043926908|0.021917667372015868|0.13392637432763127|\n",
      "|      1601|Brushing Teeth| watch| accel| -2.3430257| -16.401628|  -5.354632|   8.364352549305028| -3.4588863146451283|  1.8688790937285955|  19.668667| 4.4063787|  12.24275|   5.057691144943238|  -5.962669324874878| -2.5843014240264894|   8.045415878295898| -4.5575127601623535| -0.5135562419891357|   8.775647163391113| -3.6501102447509766|  1.7369933128356934|   9.206603050231934| -2.3740005493164062|  3.2968156337738037|    9.89804925918579|-0.36622307896614426|   7.947313261032103|  1.6016501252451982|   1.827381032071607| 3.1436938641428376|\n",
      "|      1601|Brushing Teeth| watch|  gyro|  -5.548148| -1.7732996|  -1.861525|-0.00831215827984...|0.002266377939570...|-0.00611135858225...|   8.380194|  2.165852| 4.5556192| -0.7331003189086913| -0.4660040259361267| -0.4904766589403152| -0.1426640748977661|-0.13719214126467705|-0.12729017809033394|-6.96416595019400...|-0.00288193975575...|5.408879951573908E-4|  0.1329868733882904|  0.1239902526140213| 0.11133158206939697|  0.5995219677686685| 0.49216279834508886| 0.42451939880847933|  0.5950869610899114| 0.31589206165486083|0.32210911438273854|\n",
      "|      1602|Brushing Teeth| phone| accel| -5.1607056| -11.291718| -2.7963562| 0.30317569726261934| -0.8254848153616505|   9.029698709702451|   3.820984|   1.57164| 14.055832|-0.25892791748046873| -1.2848899841308594|   8.977671051025391| 0.16183853149414062| -1.0325698852539062|   9.045825958251953| 0.31755828857421875| -0.7553176879882812|   9.077293395996094|  0.4831199645996094|  -0.471160888671875|   9.108627319335938|  0.6746070861816407|-0.31629104614257814|   9.167281341552734|   0.370753692240329|  0.7413588538288042| 0.6408447290624556|\n",
      "|      1602|Brushing Teeth| phone|  gyro| -0.6481781| -0.8961334| -1.6402435|0.007275950541349352|0.006315343520220588|0.002014903861935399|  2.3117828|  2.986435| 1.0702972|-0.04558868408203125|-0.04278030395507...|-0.30536727905273436|-0.00774765014648...|-0.00730514526367...|-0.01538848876953125|  -0.001434326171875| 0.00189971923828125|   -0.00140380859375|  0.0047760009765625|     0.0111083984375|  0.0131683349609375| 0.04538421630859364| 0.04783706665039058| 0.30808868408203083| 0.13273992747112717| 0.11733765195251815| 0.1938637549255873|\n",
      "|      1602|Brushing Teeth| watch| accel| -15.038579|  -16.60304|  -8.686014|  -7.100145308813546| -2.8143447370970773|    4.56545183668585|0.037708677| 10.271873| 12.177059|  -9.705974435806274|  -8.837566709518432| -2.0003256857395173|  -8.294711828231812|  -4.970213055610657|  3.4855087995529175|   -7.34241795539856| -2.6879403591156006|  5.3092920780181885|  -5.892728805541992| -0.9138368368148804|   6.572233200073242|  -4.035187315940857|  3.8232109785079946|   7.982418060302734|  1.7777954528386017|  3.6138142265737847| 3.0162669674413545|\n",
      "|      1602|Brushing Teeth| watch|  gyro| -13.358323| -2.7567961|  -2.439259|-0.00328408478074857|0.002981353740996732| 0.00845477410339938|  10.691026| 2.4235587| 2.5546935| -1.0899010658264159| -0.6302539467811584| -0.7103321611881257| -0.3109600096940994| -0.2636888921260834| -0.2213732674717903|-0.02013829164206...|0.003264502855017...|0.011917646043002605| 0.27497977018356323| 0.27114854753017426|  0.2500019744038582|  1.1689255595207189|  0.6453477621078484|  0.6894235730171203|  1.0744991974114133|  0.4246241419406669| 0.4385743723210065|\n",
      "|      1603|Brushing Teeth| phone| accel|  -4.155137| -6.5265937|  2.9801826|    6.59099578841566| -1.5945048931159445|   6.980914443539717|  11.841722|    5.6156| 13.239337|   6.143222332000732| -2.2921488285064697|   6.331466197967529|   6.257246017456055|  -2.190095901489258|   6.752845764160156|   6.338050365447998| -2.0632033348083496|   7.149684906005859|   7.060201406478882| -1.0271124839782715|    7.22869348526001|   7.422025203704834| 0.15562310814857483|   7.340023756027222|  0.5958091865225564|  0.9202344789776247|0.46129098562628745|\n",
      "|      1603|Brushing Teeth| phone|  gyro| -1.5635419| -3.8192394| -1.4365091|-0.01744586025098...|-0.00468517995664...|-0.01473954317873...|  1.2652678| 3.9156458| 1.2194614| -0.0685763992369175|-0.05486111901700497|-0.04194478876888752|-0.02583266235888...|-0.01491370238363...|-0.02103897370398...|-0.01651159860193...|-0.00639158673584...|-0.01491370238363...|-0.00612527038902...|0.002929477253928...|-0.00905474834144...|  0.0348874107003212|0.056592173874378204|0.010386328212916851| 0.12481004444681544| 0.18042707708834452| 0.0953903946706546|\n",
      "|      1603|Brushing Teeth| watch| accel| -13.396008| -18.070387| -15.021221|  -4.649919506965511|  -7.630519288565029|  2.9399421337756473|  5.4870615|  4.909161| 15.061923|  -8.518778800964355| -12.266602516174316| -1.6759412288665771|  -6.503100872039795|  -9.099313259124756|  0.4513070285320282|  -5.052214622497559|   -7.63645601272583|   2.784456491470337|  -3.030311107635498| -6.0826191902160645|   5.282806158065796|   0.420451754331587| -3.1619325160980236|   8.269572257995605|   2.693861113076806|  2.7130946690634605| 3.2944741147774272|\n",
      "|      1603|Brushing Teeth| watch|  gyro|  -5.222542|  -4.578904| -2.8496826|0.002336242971533...|-0.00166326615485...|-0.01202022814293...|  3.0301933|  3.503328| 2.9197896| -1.6847968757152558| -2.2072152614593503|  -1.067227518558502| -0.7122009843587875|  -1.286928802728653| -0.5018442720174789|0.020157733000814915|0.016079899854958057| 0.06967202201485634|  0.7607916742563248|  1.3714866936206818|  0.4651523008942604|    1.59304381608963|  2.0938451051712033|   0.919227334856987|    1.02792905366937|    1.46364039305189| 0.6564980005743202|\n",
      "|      1604|Brushing Teeth| phone| accel|  3.6134033|  2.8463593|   5.243454|   4.408928389379767|   5.352111607147738|   6.055249965527863|   6.009552| 7.2834015| 7.2173004|   4.085821533203125|  3.8223419189453125|   5.842791748046874|  4.1490325927734375|   5.674224853515625|    5.90203857421875|       4.19677734375|  5.7656097412109375|  5.9438018798828125|   4.297576904296875|    5.81072998046875|  6.0135040283203125|   5.253143310546875|   5.881039428710937|   6.541387939453125| 0.43841527783822953|  0.8110499331416439|0.25630302153049495|\n",
      "|      1604|Brushing Teeth| phone|  gyro|-0.30596924|-0.34484863|-0.45803833|7.269836066650323E-5|-1.35323953882390...|-5.83130293247846E-4| 0.41078186|0.25231934|   0.38237|  -0.011871337890625| -0.0114105224609375|  -0.013055419921875| -0.0042572021484375|  -0.003570556640625| -0.0043182373046875|    -9.1552734375E-5|   -4.57763671875E-5|   -1.52587890625E-4|  0.0041046142578125|   0.003509521484375|  0.0038909912109375|0.012326049804687496|0.012127685546874996|  0.0133514404296875|0.025182073705161054|0.022955378279493233|0.03201947065551611|\n",
      "|      1604|Brushing Teeth| watch| accel| -14.217218| -11.828105| -2.6072857|  -6.743283989368298|  -4.900152218755433|  3.7690346656121756|   8.573188| 9.1451025| 15.342045|  -8.556367683410645|  -8.042871475219727|-0.11300632059574112|    -7.8103346824646|  -6.357353687286377|   1.647210717201233|  -7.209390163421631|  -5.210531234741211|   3.179499864578247|  -6.143970489501953| -3.8961143493652344|   5.571307182312012| -3.4701260089874273|-0.12381015717983702|   9.047688484191895|  1.6784649210885954|   2.371872957095895| 2.8395295213244927|\n",
      "|      1604|Brushing Teeth| watch|  gyro| -6.7704735| -1.8174815| -2.5110455|-0.00282290913095...|-0.00260689145687...|0.009578252383788406|   7.440136| 1.4380441| 3.5109057| -0.8412218451499937|-0.43869477510452265| -0.3236307889223098|-0.24680978059768677| -0.2051033452153206|-0.11313387751579285|-0.01139007322490...|-0.00748055335134...|0.002978479256853...| 0.23309969902038574|  0.1896025538444519|  0.1238885223865509|  0.8662913680076595| 0.46112862527370413| 0.33001743555068974|  0.5882634667194525|  0.2821448032377445| 0.2638988040717446|\n",
      "+----------+--------------+------+------+-----------+-----------+-----------+--------------------+--------------------+--------------------+-----------+----------+----------+--------------------+--------------------+--------------------+--------------------+--------------------+--------------------+--------------------+--------------------+--------------------+--------------------+--------------------+--------------------+--------------------+--------------------+--------------------+--------------------+--------------------+-------------------+\n",
      "only showing top 20 rows\n",
      "\n"
     ]
    }
   ],
   "source": [
    "selected_joined_df.groupBy('subject_id','activity','device','sensor').\\\n",
    "                    agg(min('x').alias('x_min'),\\\n",
    "                        min('y').alias('y_min'),\\\n",
    "                        min('z').alias('z_min'),\\\n",
    "                        avg('x').alias('x_avg'),\\\n",
    "                        avg('y').alias('y_avg'),\\\n",
    "                        avg('z').alias('z_avg'),\\\n",
    "                        max('x').alias('x_max'),\\\n",
    "                        max('y').alias('y_max'),\\\n",
    "                        max('z').alias('z_max'),\\\n",
    "                        expr('percentile(x, array(0.05))')[0].alias('x_05%'),\\\n",
    "                        expr('percentile(y, array(0.05))')[0].alias('y_05%'),\\\n",
    "                        expr('percentile(z, array(0.05))')[0].alias('z_05%'),\\\n",
    "                        expr('percentile(x, array(0.25))')[0].alias('x_25%'),\\\n",
    "                        expr('percentile(y, array(0.25))')[0].alias('y_25%'),\\\n",
    "                        expr('percentile(z, array(0.25))')[0].alias('z_25%'),\\\n",
    "                        expr('percentile(x, array(0.50))')[0].alias('x_50%'),\\\n",
    "                        expr('percentile(y, array(0.50))')[0].alias('y_50%'),\\\n",
    "                        expr('percentile(z, array(0.50))')[0].alias('z_50%'),\\\n",
    "                        expr('percentile(x, array(0.75))')[0].alias('x_75%'),\\\n",
    "                        expr('percentile(y, array(0.75))')[0].alias('y_75%'),\\\n",
    "                        expr('percentile(z, array(0.75))')[0].alias('z_75%'),\\\n",
    "                        expr('percentile(x, array(0.95))')[0].alias('x_95%'),\\\n",
    "                        expr('percentile(y, array(0.95))')[0].alias('y_95%'),\\\n",
    "                        expr('percentile(z, array(0.95))')[0].alias('z_95%'),\\\n",
    "                        stddev('x').alias('x_std'),\\\n",
    "                        stddev('y').alias('y_std'),\\\n",
    "                        stddev('z').alias('z_std')).orderBy('activity','subject_id','device','sensor').show(n)\n",
    "\n",
    "                        \n",
    "            \n"
   ]
  },
  {
   "cell_type": "markdown",
   "id": "confidential-pierre",
   "metadata": {},
   "source": [
    "# Question 6"
   ]
  },
  {
   "cell_type": "code",
   "execution_count": 23,
   "id": "standing-bruce",
   "metadata": {},
   "outputs": [],
   "source": [
    "extracted_joined = joined_df.select(\n",
    "    'subject_id', 'activity', 'timestamp', 'device', 'sensor', 'x', 'y', 'z').cache()\n",
    "# extracted_joined.show(5)"
   ]
  },
  {
   "cell_type": "code",
   "execution_count": 24,
   "id": "latin-bench",
   "metadata": {},
   "outputs": [],
   "source": [
    "# def check_activity(x):\n",
    "#     if activity_string in x:\n",
    "#         return True\n",
    "#     else:\n",
    "#         return False\n",
    "    \n",
    "# # Register the function as UDF\n",
    "# check_activity_udf = udf(check_eating, BooleanType()) \n"
   ]
  },
  {
   "cell_type": "code",
   "execution_count": 25,
   "id": "featured-external",
   "metadata": {},
   "outputs": [
    {
     "name": "stdout",
     "output_type": "stream",
     "text": [
      "+-----------------+---------------+------+------+------------+------------+------------+\n",
      "|         activity|      timestamp|device|sensor|           x|           y|           z|\n",
      "+-----------------+---------------+------+------+------------+------------+------------+\n",
      "|Drinking from Cup|175766024086015| phone| accel|   1.0630256|   5.0996494|    8.136096|\n",
      "|Drinking from Cup|175766024086015| phone|  gyro|-0.020240024|-0.004261058|-0.023435818|\n",
      "|Drinking from Cup|175766059746973| phone| accel|   1.4281414|    5.017648|    7.902063|\n",
      "|Drinking from Cup|175766059746973| phone|  gyro| -0.06844324| -0.14940333|-0.056459017|\n",
      "|Drinking from Cup|175766099610941| phone| accel|   1.6065093|   5.3881507|    7.901464|\n",
      "|Drinking from Cup|175766099610941| phone|  gyro|-0.049534798|-0.083889574|-0.059921127|\n",
      "|Drinking from Cup|175766139549562| phone| accel|   1.2575544|   5.4102974|   7.9906483|\n",
      "|Drinking from Cup|175766139549562| phone|  gyro| -0.07829694| -0.01917476| -0.03195793|\n",
      "|Drinking from Cup|175766179413402| phone| accel|   1.0696096|   5.1050367|    8.134899|\n",
      "|Drinking from Cup|175766179413402| phone|  gyro|-0.061519023|  0.01438107| 0.007989483|\n",
      "|Drinking from Cup|175766219317073| phone| accel|   1.2886791|   5.1170077|    8.032547|\n",
      "|Drinking from Cup|175766219317073| phone|  gyro|-0.051931642| 0.015978966| 0.002396845|\n",
      "|Drinking from Cup|175766259262814| phone| accel|   1.0696096|    5.161899|    8.118139|\n",
      "|Drinking from Cup|175766259262814| phone|  gyro|-0.007190535| 0.047670584| 0.028495824|\n",
      "|Drinking from Cup|175766299127625| phone| accel|   0.6877344|   5.2002063|    8.083424|\n",
      "|Drinking from Cup|175766299127625| phone|  gyro|-0.015978966| 0.021038974|  0.03488741|\n",
      "|Drinking from Cup|175766337527057| phone| accel|   0.4794389|    5.180454|    8.208521|\n",
      "|Drinking from Cup|175766337527057| phone|  gyro|-0.011984225| 0.014114754| 0.040213734|\n",
      "|Drinking from Cup|175766379007210| phone| accel|   0.6889315|    5.130774|    8.111555|\n",
      "|Drinking from Cup|175766379007210| phone|  gyro| 0.016245283| -0.06391586|  0.06764429|\n",
      "+-----------------+---------------+------+------+------------+------------+------------+\n",
      "only showing top 20 rows\n",
      "\n"
     ]
    }
   ],
   "source": [
    "extracted_joined.filter(f\"subject_id=={subject_id}\")\\\n",
    "                .orderBy('timestamp', 'device', 'sensor')\\\n",
    "                .filter(lower(extracted_joined['activity'])\\\n",
    "                        .contains(f\"{activity_string}\"))\\\n",
    "                .drop('subject_id').show(n)"
   ]
  },
  {
   "cell_type": "markdown",
   "id": "hairy-microphone",
   "metadata": {},
   "source": [
    "# Question 7"
   ]
  },
  {
   "cell_type": "code",
   "execution_count": 37,
   "id": "studied-increase",
   "metadata": {},
   "outputs": [
    {
     "name": "stdout",
     "output_type": "stream",
     "text": [
      "+----------+------+------+-------------+---------------+------------+------------+------------+-----------------+----+\n",
      "|subject_id|sensor|device|activity_code|      timestamp|           x|           y|           z|         activity|code|\n",
      "+----------+------+------+-------------+---------------+------------+------------+------------+-----------------+----+\n",
      "|      1613|  gyro| phone|            K|175766024086015|-0.020240024|-0.004261058|-0.023435818|Drinking from Cup|   K|\n",
      "|      1613|  gyro| phone|            K|175766059746973| -0.06844324| -0.14940333|-0.056459017|Drinking from Cup|   K|\n",
      "|      1613|  gyro| phone|            K|175766099610941|-0.049534798|-0.083889574|-0.059921127|Drinking from Cup|   K|\n",
      "|      1613|  gyro| phone|            K|175766139549562| -0.07829694| -0.01917476| -0.03195793|Drinking from Cup|   K|\n",
      "|      1613|  gyro| phone|            K|175766179413402|-0.061519023|  0.01438107| 0.007989483|Drinking from Cup|   K|\n",
      "+----------+------+------+-------------+---------------+------------+------------+------------+-----------------+----+\n",
      "only showing top 5 rows\n",
      "\n"
     ]
    }
   ],
   "source": [
    "new_joined_df = joined_df.filter(f\"subject_id=={subject_id}\").filter(lower(extracted_joined['activity'])\\\n",
    "                        .contains(f\"{activity_string}\"))\n",
    "#  new_joined_df.show(5)"
   ]
  },
  {
   "cell_type": "code",
   "execution_count": null,
   "id": "mediterranean-second",
   "metadata": {},
   "outputs": [],
   "source": []
  },
  {
   "cell_type": "code",
   "execution_count": 39,
   "id": "nonprofit-ideal",
   "metadata": {},
   "outputs": [],
   "source": [
    "# Filer for rows that has both sensor\n",
    "both_sensor_df = new_joined_df.groupBy('activity_code', 'device', 'timestamp')\\\n",
    "    .agg(countDistinct('sensor').alias('sensor_count'))\\\n",
    "    .filter('sensor_count == 2')"
   ]
  },
  {
   "cell_type": "code",
   "execution_count": 40,
   "id": "together-demographic",
   "metadata": {},
   "outputs": [
    {
     "name": "stdout",
     "output_type": "stream",
     "text": [
      "+-------------+------+---------------+------------+\n",
      "|activity_code|device|      timestamp|sensor_count|\n",
      "+-------------+------+---------------+------------+\n",
      "|            K| phone|175766024086015|           2|\n",
      "|            K| phone|175766059746973|           2|\n",
      "|            K| phone|175766099610941|           2|\n",
      "|            K| phone|175766139549562|           2|\n",
      "|            K| phone|175766179413402|           2|\n",
      "+-------------+------+---------------+------------+\n",
      "only showing top 5 rows\n",
      "\n"
     ]
    }
   ],
   "source": [
    "both_sensor_df.show(5)"
   ]
  },
  {
   "cell_type": "code",
   "execution_count": 41,
   "id": "variable-lincoln",
   "metadata": {},
   "outputs": [],
   "source": [
    "extracted_df = joined_df.drop('activity', 'code')"
   ]
  },
  {
   "cell_type": "code",
   "execution_count": 42,
   "id": "deadly-stage",
   "metadata": {},
   "outputs": [
    {
     "name": "stdout",
     "output_type": "stream",
     "text": [
      "+----------+------+------+-------------+---------------+------------+------------+------------+\n",
      "|subject_id|sensor|device|activity_code|      timestamp|           x|           y|           z|\n",
      "+----------+------+------+-------------+---------------+------------+------------+------------+\n",
      "|      1613|  gyro| phone|            K|175766024086015|-0.020240024|-0.004261058|-0.023435818|\n",
      "|      1613|  gyro| phone|            K|175766059746973| -0.06844324| -0.14940333|-0.056459017|\n",
      "|      1613|  gyro| phone|            K|175766099610941|-0.049534798|-0.083889574|-0.059921127|\n",
      "|      1613|  gyro| phone|            K|175766139549562| -0.07829694| -0.01917476| -0.03195793|\n",
      "|      1613|  gyro| phone|            K|175766179413402|-0.061519023|  0.01438107| 0.007989483|\n",
      "+----------+------+------+-------------+---------------+------------+------------+------------+\n",
      "only showing top 5 rows\n",
      "\n"
     ]
    }
   ],
   "source": [
    "extracted_df.show(5)"
   ]
  },
  {
   "cell_type": "code",
   "execution_count": 43,
   "id": "green-pointer",
   "metadata": {},
   "outputs": [],
   "source": [
    "# This dataframe only contains record of 'when both accelermeter and gyroscope exist for the same activity, device and timestamp'\n",
    "big_joined_df = extracted_df.join(\n",
    "      both_sensor_df, ['activity_code', 'device', 'timestamp'], 'leftsemi')"
   ]
  },
  {
   "cell_type": "code",
   "execution_count": 44,
   "id": "received-tennessee",
   "metadata": {},
   "outputs": [
    {
     "name": "stdout",
     "output_type": "stream",
     "text": [
      "+-------------+------+---------------+----------+------+-------------+-------------+-------------+\n",
      "|activity_code|device|      timestamp|subject_id|sensor|            x|            y|            z|\n",
      "+-------------+------+---------------+----------+------+-------------+-------------+-------------+\n",
      "|            K| phone|175770089551403|      1613|  gyro| -0.009321064|  -0.00479369|-0.0026631611|\n",
      "|            K| phone|175770089551403|      1613| accel|    1.0313023|     5.122993|      8.10557|\n",
      "|            K| phone|175774519993745|      1613|  gyro| -0.011185277|-0.0061252704|  5.326322E-4|\n",
      "|            K| phone|175774519993745|      1613| accel|   0.96306765|     5.080496|     8.104373|\n",
      "|            K| phone|175779032396139|      1613|  gyro|-0.0055926386|-0.0063915867|-0.0026631611|\n",
      "+-------------+------+---------------+----------+------+-------------+-------------+-------------+\n",
      "only showing top 5 rows\n",
      "\n"
     ]
    }
   ],
   "source": [
    "big_joined_df.show(5)"
   ]
  },
  {
   "cell_type": "code",
   "execution_count": 46,
   "id": "united-olive",
   "metadata": {},
   "outputs": [],
   "source": [
    "accel = big_joined_df.filter(\"sensor == 'accel'\")\\\n",
    "    .filter(f\"subject_id == {subject_id}\")\\\n",
    "    .withColumnRenamed('x', 'accel_x')\\\n",
    "    .withColumnRenamed('y', 'accel_y')\\\n",
    "    .withColumnRenamed('z', 'accel_z')\n",
    "\n",
    "\n",
    "gyro = big_joined_df.filter(\"sensor == 'gyro'\")\\\n",
    "    .filter(f\"subject_id == {subject_id}\")\\\n",
    "    .withColumnRenamed('x', 'gyro_x')\\\n",
    "    .withColumnRenamed('y', 'gyro_y')\\\n",
    "    .withColumnRenamed('z', 'gyro_z')"
   ]
  },
  {
   "cell_type": "code",
   "execution_count": 47,
   "id": "level-scale",
   "metadata": {},
   "outputs": [
    {
     "name": "stdout",
     "output_type": "stream",
     "text": [
      "+-------------+------+---------------+----------+---------+---------+-------------+------------+------------+\n",
      "|activity_code|device|      timestamp|   accel_x|  accel_y|  accel_z|       gyro_x|      gyro_y|      gyro_z|\n",
      "+-------------+------+---------------+----------+---------+---------+-------------+------------+------------+\n",
      "|            K| phone|175766024086015| 1.0630256|5.0996494| 8.136096| -0.020240024|-0.004261058|-0.023435818|\n",
      "|            K| phone|175766059746973| 1.4281414| 5.017648| 7.902063|  -0.06844324| -0.14940333|-0.056459017|\n",
      "|            K| phone|175766099610941| 1.6065093|5.3881507| 7.901464| -0.049534798|-0.083889574|-0.059921127|\n",
      "|            K| phone|175766139549562| 1.2575544|5.4102974|7.9906483|  -0.07829694| -0.01917476| -0.03195793|\n",
      "|            K| phone|175766179413402| 1.0696096|5.1050367| 8.134899| -0.061519023|  0.01438107| 0.007989483|\n",
      "|            K| phone|175766219317073| 1.2886791|5.1170077| 8.032547| -0.051931642| 0.015978966| 0.002396845|\n",
      "|            K| phone|175766259262814| 1.0696096| 5.161899| 8.118139| -0.007190535| 0.047670584| 0.028495824|\n",
      "|            K| phone|175766299127625| 0.6877344|5.2002063| 8.083424| -0.015978966| 0.021038974|  0.03488741|\n",
      "|            K| phone|175766337527057| 0.4794389| 5.180454| 8.208521| -0.011984225| 0.014114754| 0.040213734|\n",
      "|            K| phone|175766379007210| 0.6889315| 5.130774| 8.111555|  0.016245283| -0.06391586|  0.06764429|\n",
      "|            K| phone|175766419060796| 0.9935937| 5.116409|7.9834657|  0.008788432| -0.06231797| 0.060720075|\n",
      "|            K| phone|175766458833064| 1.1905168|5.2325277| 8.079233|-7.9894834E-4|-0.041012682| 0.044208474|\n",
      "|            K| phone|175766498694691| 1.2952632|5.1409497| 8.075643| 0.0039947415|-0.025566347| 0.042876896|\n",
      "|            K| phone|175766538643741| 1.3030443| 5.120599| 8.038532|  -0.00479369|-0.010120012| 0.023169503|\n",
      "|            K| phone|175766576922983| 1.1294646| 5.204396|  8.07265|-0.0077231675| 2.663161E-4| 0.010120012|\n",
      "|            K| phone|175766616642073|0.95588505| 5.185242|8.0606785|  -0.01304949| 0.002396845|0.0077231675|\n",
      "|            K| phone|175766656880422|0.92655605|5.1798553| 8.057686| -0.022903185|-0.006657903|  0.00479369|\n",
      "|            K| phone|175766696347495| 1.0055647|5.1523223| 8.074445| -0.027696876|-0.017044231|0.0034621095|\n",
      "|            K| phone|175766739619846| 1.0672154| 5.121796| 8.085219|   -0.0314253|-0.014913702|-0.008522116|\n",
      "|            K| phone|175766776173959| 1.1210849| 5.122993| 8.094796| -0.029294772|-0.005060006|-0.019973708|\n",
      "+-------------+------+---------------+----------+---------+---------+-------------+------------+------------+\n",
      "only showing top 20 rows\n",
      "\n"
     ]
    }
   ],
   "source": [
    "accel.join(gyro, ['activity_code', 'device', 'timestamp'])\\\n",
    "     .orderBy('activity_code', 'timestamp')\\\n",
    "     .drop('subject_id', 'sensor')\\\n",
    "     .show(n)"
   ]
  },
  {
   "cell_type": "code",
   "execution_count": null,
   "id": "straight-theme",
   "metadata": {},
   "outputs": [],
   "source": [
    "ss.stop()"
   ]
  },
  {
   "cell_type": "code",
   "execution_count": null,
   "id": "searching-launch",
   "metadata": {},
   "outputs": [],
   "source": []
  }
 ],
 "metadata": {
  "kernelspec": {
   "display_name": "Python 3",
   "language": "python",
   "name": "python3"
  },
  "language_info": {
   "codemirror_mode": {
    "name": "ipython",
    "version": 3
   },
   "file_extension": ".py",
   "mimetype": "text/x-python",
   "name": "python",
   "nbconvert_exporter": "python",
   "pygments_lexer": "ipython3",
   "version": "3.8.3"
  }
 },
 "nbformat": 4,
 "nbformat_minor": 5
}
