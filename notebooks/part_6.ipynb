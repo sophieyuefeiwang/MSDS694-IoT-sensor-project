{
 "cells": [
  {
   "cell_type": "code",
   "execution_count": 1,
   "id": "clean-ensemble",
   "metadata": {},
   "outputs": [],
   "source": [
    "import h2o\n",
    "from h2o.automl import H2OAutoML\n",
    "\n",
    "from pyspark.sql import SparkSession\n",
    "from pysparkling import *"
   ]
  },
  {
   "cell_type": "code",
   "execution_count": 2,
   "id": "heated-assault",
   "metadata": {},
   "outputs": [],
   "source": [
    "# input_1 : \n",
    "Window_size = 5\n",
    "train_folder = 'input_1/train'\n",
    "valid_folder = 'input_1/valid'\n",
    "n_fold = 5\n",
    "n_digits = 4\n",
    "seed = 1\n",
    "max_runtime_secs = 1000\n",
    "response = \"label\"\n",
    "\n",
    "# input_2 : \n",
    "Window_size = 10\n",
    "#train_folder = 'input_2/train'\n",
    "#valid_folder = 'input_2/valid'\n",
    "#n_fold = 5\n",
    "#n_digits = 3\n",
    "#seed = 2\n",
    "#max_runtime_secs = 1500\n",
    "#response = \"label\"\n",
    "\n",
    "# train_folder = 'small/small_train'\n",
    "# valid_folder = 'small/small_valid'\n",
    "# n_fold = 5\n",
    "# n_digits = 4\n",
    "# seed = 1\n",
    "# max_runtime_secs = 1000\n",
    "# response = \"label\"\n"
   ]
  },
  {
   "cell_type": "code",
   "execution_count": 3,
   "id": "absent-processing",
   "metadata": {},
   "outputs": [
    {
     "name": "stdout",
     "output_type": "stream",
     "text": [
      "Connecting to H2O server at http://192.168.0.11:54323 ... successful.\n"
     ]
    },
    {
     "data": {
      "text/html": [
       "<div style=\"overflow:auto\"><table style=\"width:50%\"><tr><td>H2O_cluster_uptime:</td>\n",
       "<td>09 secs</td></tr>\n",
       "<tr><td>H2O_cluster_timezone:</td>\n",
       "<td>America/Los_Angeles</td></tr>\n",
       "<tr><td>H2O_data_parsing_timezone:</td>\n",
       "<td>UTC</td></tr>\n",
       "<tr><td>H2O_cluster_version:</td>\n",
       "<td>3.32.0.4</td></tr>\n",
       "<tr><td>H2O_cluster_version_age:</td>\n",
       "<td>1 month and 5 days </td></tr>\n",
       "<tr><td>H2O_cluster_name:</td>\n",
       "<td>sparkling-water-yuefeiwang_local-1615078077297</td></tr>\n",
       "<tr><td>H2O_cluster_total_nodes:</td>\n",
       "<td>1</td></tr>\n",
       "<tr><td>H2O_cluster_free_memory:</td>\n",
       "<td>10.54 Gb</td></tr>\n",
       "<tr><td>H2O_cluster_total_cores:</td>\n",
       "<td>8</td></tr>\n",
       "<tr><td>H2O_cluster_allowed_cores:</td>\n",
       "<td>6</td></tr>\n",
       "<tr><td>H2O_cluster_status:</td>\n",
       "<td>locked, healthy</td></tr>\n",
       "<tr><td>H2O_connection_url:</td>\n",
       "<td>http://192.168.0.11:54323</td></tr>\n",
       "<tr><td>H2O_connection_proxy:</td>\n",
       "<td>null</td></tr>\n",
       "<tr><td>H2O_internal_security:</td>\n",
       "<td>False</td></tr>\n",
       "<tr><td>H2O_API_Extensions:</td>\n",
       "<td>XGBoost, Algos, Amazon S3, Sparkling Water REST API Extensions, AutoML, Core V3, TargetEncoder, Core V4</td></tr>\n",
       "<tr><td>Python_version:</td>\n",
       "<td>3.8.3 final</td></tr></table></div>"
      ],
      "text/plain": [
       "--------------------------  -------------------------------------------------------------------------------------------------------\n",
       "H2O_cluster_uptime:         09 secs\n",
       "H2O_cluster_timezone:       America/Los_Angeles\n",
       "H2O_data_parsing_timezone:  UTC\n",
       "H2O_cluster_version:        3.32.0.4\n",
       "H2O_cluster_version_age:    1 month and 5 days\n",
       "H2O_cluster_name:           sparkling-water-yuefeiwang_local-1615078077297\n",
       "H2O_cluster_total_nodes:    1\n",
       "H2O_cluster_free_memory:    10.54 Gb\n",
       "H2O_cluster_total_cores:    8\n",
       "H2O_cluster_allowed_cores:  6\n",
       "H2O_cluster_status:         locked, healthy\n",
       "H2O_connection_url:         http://192.168.0.11:54323\n",
       "H2O_connection_proxy:       null\n",
       "H2O_internal_security:      False\n",
       "H2O_API_Extensions:         XGBoost, Algos, Amazon S3, Sparkling Water REST API Extensions, AutoML, Core V3, TargetEncoder, Core V4\n",
       "Python_version:             3.8.3 final\n",
       "--------------------------  -------------------------------------------------------------------------------------------------------"
      ]
     },
     "metadata": {},
     "output_type": "display_data"
    },
    {
     "name": "stdout",
     "output_type": "stream",
     "text": [
      "\n",
      "Sparkling Water Context:\n",
      " * Sparkling Water Version: 3.32.0.4-1-3.0\n",
      " * H2O name: sparkling-water-yuefeiwang_local-1615078077297\n",
      " * cluster size: 1\n",
      " * list of used nodes:\n",
      "  (executorId, host, port)\n",
      "  ------------------------\n",
      "  (0,192.168.0.11,54321)\n",
      "  ------------------------\n",
      "\n",
      "  Open H2O Flow in browser: http://192.168.0.11:54323 (CMD + click in Mac OSX)\n",
      "\n",
      "    \n"
     ]
    }
   ],
   "source": [
    "ss = SparkSession.builder.config(\"spark.executor.memory\", \"12g\")\\\n",
    "    .config(\"spark.driver.memory\", \"12g\")\\\n",
    "    .config(\"spark.executor.cores\", 6)\\\n",
    "    .config('spark.executor.instances', 5).getOrCreate()\n",
    "\n",
    "ss.sparkContext.setLogLevel('OFF')\n",
    "hc = H2OContext.getOrCreate()\n"
   ]
  },
  {
   "cell_type": "code",
   "execution_count": null,
   "id": "pediatric-standard",
   "metadata": {},
   "outputs": [],
   "source": [
    "# mute the progress bar\n",
    "h2o.no_progress()"
   ]
  },
  {
   "cell_type": "markdown",
   "id": "single-patio",
   "metadata": {},
   "source": [
    "# Q1"
   ]
  },
  {
   "cell_type": "code",
   "execution_count": 4,
   "id": "hungry-virginia",
   "metadata": {},
   "outputs": [],
   "source": [
    "# create spark dataframe\n",
    "train_df = ss.read.parquet(train_folder).repartition(8).cache()\n",
    "valid_df = ss.read.parquet(valid_folder).repartition(8).cache()\n"
   ]
  },
  {
   "cell_type": "code",
   "execution_count": 7,
   "id": "still-avatar",
   "metadata": {},
   "outputs": [],
   "source": [
    "\n",
    "# convert spark dataframe to h2oFrame\n",
    "train_h2o = hc.asH2OFrame(train_df, \"train\")\n",
    "valid_h2o = hc.asH2OFrame(valid_df, \"valid\")"
   ]
  },
  {
   "cell_type": "code",
   "execution_count": 9,
   "id": "fantastic-shepherd",
   "metadata": {},
   "outputs": [],
   "source": [
    "# convert label column to categorical datatype\n",
    "train_h2o['label'] = train_h2o['label'].asfactor()\n",
    "valid_h2o['label'] = valid_h2o['label'].asfactor()"
   ]
  },
  {
   "cell_type": "markdown",
   "id": "detected-basketball",
   "metadata": {},
   "source": [
    "# Q2"
   ]
  },
  {
   "cell_type": "code",
   "execution_count": 12,
   "id": "cellular-premises",
   "metadata": {},
   "outputs": [],
   "source": [
    "predictors = train_h2o.names[:]\n",
    "response = 'label'\n",
    "predictors.remove(response)"
   ]
  },
  {
   "cell_type": "markdown",
   "id": "spiritual-basement",
   "metadata": {},
   "source": [
    "# Q3"
   ]
  },
  {
   "cell_type": "code",
   "execution_count": 15,
   "id": "embedded-harvey",
   "metadata": {},
   "outputs": [
    {
     "name": "stdout",
     "output_type": "stream",
     "text": [
      "AutoML progress: |\n",
      "16:53:41.113: User specified a validation frame with cross-validation still enabled. Please note that the models will still be validated using cross-validation only, the validation frame will be used to provide purely informative validation metrics on the trained models.\n",
      "\n",
      "████████████████████████████████████████████████████████| 100%\n"
     ]
    }
   ],
   "source": [
    "from h2o.automl import H2OAutoML\n",
    "model_automl = H2OAutoML(max_runtime_secs=max_runtime_secs, seed = seed, nfolds = n_fold) # seed : Set a seed for reproducibility\n",
    "model_automl.train(x=predictors,\n",
    "                   y=response,\n",
    "                   training_frame=train_h2o,\n",
    "                   validation_frame=valid_h2o)"
   ]
  },
  {
   "cell_type": "code",
   "execution_count": 27,
   "id": "armed-helen",
   "metadata": {},
   "outputs": [
    {
     "data": {
      "text/html": [
       "<table>\n",
       "<thead>\n",
       "<tr><th>model_id                                           </th><th style=\"text-align: right;\">     auc</th><th style=\"text-align: right;\">  logloss</th><th style=\"text-align: right;\">   aucpr</th><th style=\"text-align: right;\">  mean_per_class_error</th><th style=\"text-align: right;\">    rmse</th><th style=\"text-align: right;\">      mse</th></tr>\n",
       "</thead>\n",
       "<tbody>\n",
       "<tr><td>XGBoost_2_AutoML_20210306_165341                   </td><td style=\"text-align: right;\">0.958249</td><td style=\"text-align: right;\"> 0.50625 </td><td style=\"text-align: right;\">0.908446</td><td style=\"text-align: right;\">              0.111932</td><td style=\"text-align: right;\">0.398415</td><td style=\"text-align: right;\">0.158735 </td></tr>\n",
       "<tr><td>StackedEnsemble_BestOfFamily_AutoML_20210306_165341</td><td style=\"text-align: right;\">0.958211</td><td style=\"text-align: right;\"> 0.243636</td><td style=\"text-align: right;\">0.908049</td><td style=\"text-align: right;\">              0.112815</td><td style=\"text-align: right;\">0.266111</td><td style=\"text-align: right;\">0.0708151</td></tr>\n",
       "<tr><td>StackedEnsemble_AllModels_AutoML_20210306_165341   </td><td style=\"text-align: right;\">0.957537</td><td style=\"text-align: right;\"> 0.239183</td><td style=\"text-align: right;\">0.90503 </td><td style=\"text-align: right;\">              0.112147</td><td style=\"text-align: right;\">0.264056</td><td style=\"text-align: right;\">0.0697256</td></tr>\n",
       "<tr><td>XGBoost_1_AutoML_20210306_165341                   </td><td style=\"text-align: right;\">0.893553</td><td style=\"text-align: right;\"> 0.55673 </td><td style=\"text-align: right;\">0.747795</td><td style=\"text-align: right;\">              0.187428</td><td style=\"text-align: right;\">0.428044</td><td style=\"text-align: right;\">0.183222 </td></tr>\n",
       "<tr><td>XGBoost_3_AutoML_20210306_165341                   </td><td style=\"text-align: right;\">0.792847</td><td style=\"text-align: right;\"> 0.598657</td><td style=\"text-align: right;\">0.558004</td><td style=\"text-align: right;\">              0.276257</td><td style=\"text-align: right;\">0.451242</td><td style=\"text-align: right;\">0.203619 </td></tr>\n",
       "<tr><td>GLM_1_AutoML_20210306_165341                       </td><td style=\"text-align: right;\">0.62529 </td><td style=\"text-align: right;\"> 0.58957 </td><td style=\"text-align: right;\">0.363773</td><td style=\"text-align: right;\">              0.404796</td><td style=\"text-align: right;\">0.447493</td><td style=\"text-align: right;\">0.20025  </td></tr>\n",
       "</tbody>\n",
       "</table>"
      ]
     },
     "metadata": {},
     "output_type": "display_data"
    },
    {
     "name": "stdout",
     "output_type": "stream",
     "text": [
      "\n"
     ]
    }
   ],
   "source": [
    "print(model_automl.leaderboard)"
   ]
  },
  {
   "cell_type": "code",
   "execution_count": 23,
   "id": "computational-tampa",
   "metadata": {},
   "outputs": [
    {
     "name": "stdout",
     "output_type": "stream",
     "text": [
      "0.9597\n"
     ]
    }
   ],
   "source": [
    "print(round(model_automl.leader.auc(valid=True),n_digits))"
   ]
  },
  {
   "cell_type": "code",
   "execution_count": 26,
   "id": "beneficial-iraqi",
   "metadata": {},
   "outputs": [
    {
     "name": "stdout",
     "output_type": "stream",
     "text": [
      "\n",
      "Confusion Matrix (Act/Pred) for max f1 @ threshold = 0.4804601428484676: \n"
     ]
    },
    {
     "data": {
      "text/html": [
       "<div>\n",
       "<style scoped>\n",
       "    .dataframe tbody tr th:only-of-type {\n",
       "        vertical-align: middle;\n",
       "    }\n",
       "\n",
       "    .dataframe tbody tr th {\n",
       "        vertical-align: top;\n",
       "    }\n",
       "\n",
       "    .dataframe thead th {\n",
       "        text-align: right;\n",
       "    }\n",
       "</style>\n",
       "<table border=\"1\" class=\"dataframe\">\n",
       "  <thead>\n",
       "    <tr style=\"text-align: right;\">\n",
       "      <th></th>\n",
       "      <th></th>\n",
       "      <th>0</th>\n",
       "      <th>1</th>\n",
       "      <th>Error</th>\n",
       "      <th>Rate</th>\n",
       "    </tr>\n",
       "  </thead>\n",
       "  <tbody>\n",
       "    <tr>\n",
       "      <th>0</th>\n",
       "      <td>0</td>\n",
       "      <td>784745.0</td>\n",
       "      <td>64798.0</td>\n",
       "      <td>0.0763</td>\n",
       "      <td>(64798.0/849543.0)</td>\n",
       "    </tr>\n",
       "    <tr>\n",
       "      <th>1</th>\n",
       "      <td>1</td>\n",
       "      <td>47541.0</td>\n",
       "      <td>282378.0</td>\n",
       "      <td>0.1441</td>\n",
       "      <td>(47541.0/329919.0)</td>\n",
       "    </tr>\n",
       "    <tr>\n",
       "      <th>2</th>\n",
       "      <td>Total</td>\n",
       "      <td>832286.0</td>\n",
       "      <td>347176.0</td>\n",
       "      <td>0.0952</td>\n",
       "      <td>(112339.0/1179462.0)</td>\n",
       "    </tr>\n",
       "  </tbody>\n",
       "</table>\n",
       "</div>"
      ],
      "text/plain": [
       "                 0         1   Error                   Rate\n",
       "0      0  784745.0   64798.0  0.0763     (64798.0/849543.0)\n",
       "1      1   47541.0  282378.0  0.1441     (47541.0/329919.0)\n",
       "2  Total  832286.0  347176.0  0.0952   (112339.0/1179462.0)"
      ]
     },
     "metadata": {},
     "output_type": "display_data"
    },
    {
     "name": "stdout",
     "output_type": "stream",
     "text": [
      "\n"
     ]
    }
   ],
   "source": [
    "print(model_automl.leader.confusion_matrix(valid=True))"
   ]
  },
  {
   "cell_type": "code",
   "execution_count": 28,
   "id": "rocky-while",
   "metadata": {},
   "outputs": [],
   "source": [
    "ss.stop()"
   ]
  },
  {
   "cell_type": "code",
   "execution_count": null,
   "id": "opening-packaging",
   "metadata": {},
   "outputs": [],
   "source": []
  }
 ],
 "metadata": {
  "kernelspec": {
   "display_name": "Python 3",
   "language": "python",
   "name": "python3"
  },
  "language_info": {
   "codemirror_mode": {
    "name": "ipython",
    "version": 3
   },
   "file_extension": ".py",
   "mimetype": "text/x-python",
   "name": "python",
   "nbconvert_exporter": "python",
   "pygments_lexer": "ipython3",
   "version": "3.8.3"
  }
 },
 "nbformat": 4,
 "nbformat_minor": 5
}
